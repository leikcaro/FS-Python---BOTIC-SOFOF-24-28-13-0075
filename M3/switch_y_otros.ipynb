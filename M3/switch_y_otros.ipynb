{
 "cells": [
  {
   "cell_type": "markdown",
   "metadata": {},
   "source": [
    "# Ejercicios integradores con soluciones\n",
    "\n",
    "En este notebook encontrarás tres ejercicios que consolidan lo aprendido: uso de `match-case`, manipulación de strings, operaciones matemáticas y control de flujo. ¡A darle!"
   ]
  },
  {
   "cell_type": "markdown",
   "metadata": {},
   "source": [
    "## Ejercicio 1: Conversor de temperaturas usando match-case\n",
    "\n",
    "**Enunciado:**\n",
    "- Muestra un menú para convertir de Celsius a Fahrenheit o a Kelvin.\n",
    "- Usa `match-case` para simular un switch-case.\n",
    "- El programa debe repetirse hasta que el usuario elija salir."
   ]
  },
  {
   "cell_type": "code",
   "execution_count": null,
   "metadata": {},
   "outputs": [],
   "source": [
    "while True:\n",
    "    print(\"\\n=== Conversor de temperaturas ===\")\n",
    "    print(\"1. Celsius a Fahrenheit\")\n",
    "    print(\"2. Celsius a Kelvin\")\n",
    "    print(\"3. Salir\")\n",
    "    opcion = input(\"Elige una opción (1-3): \")\n",
    "\n",
    "    match opcion:\n",
    "        case \"1\":\n",
    "            celsius = float(input(\"Ingresa la temperatura en °C: \"))\n",
    "            fahrenheit = (celsius * 9/5) + 32\n",
    "            print(f\"{celsius}°C son {fahrenheit:.2f}°F\")\n",
    "\n",
    "        case \"2\":\n",
    "            celsius = float(input(\"Ingresa la temperatura en °C: \"))\n",
    "            kelvin = celsius + 273.15\n",
    "            print(f\"{celsius}°C son {kelvin:.2f}K\")\n",
    "\n",
    "        case \"3\":\n",
    "            print(\"¡Gracias por usar el conversor!\")\n",
    "            break\n",
    "\n",
    "        case _:\n",
    "            print(\"Opción inválida. Intenta de nuevo.\")"
   ]
  },
  {
   "cell_type": "markdown",
   "metadata": {},
   "source": [
    "## Ejercicio 2: Manipulando cadenas como un pro\n",
    "\n",
    "**Enunciado:**\n",
    "- Pide al usuario una frase.\n",
    "- Muestra la frase en minúsculas y mayúsculas.\n",
    "- Cuenta cuántas palabras tiene.\n",
    "- Reemplaza todas las \"a\" por \"@\".\n",
    "- Indica si la frase termina en un signo de exclamación."
   ]
  },
  {
   "cell_type": "code",
   "execution_count": null,
   "metadata": {},
   "outputs": [],
   "source": [
    "frase = input(\"Escribe una frase: \")\n",
    "print(\"\\nFrase en minúsculas:\", frase.lower())\n",
    "print(\"Frase en mayúsculas:\", frase.upper())\n",
    "\n",
    "palabras = frase.split()\n",
    "print(f\"La frase tiene {len(palabras)} palabras.\")\n",
    "\n",
    "frase_reemplazada = frase.replace(\"a\", \"@\").replace(\"A\", \"@\")\n",
    "print(\"Frase reemplazando 'a' por '@':\", frase_reemplazada)\n",
    "\n",
    "if frase.endswith(\"!\"):\n",
    "    print(\"La frase termina en un signo de exclamación.\")\n",
    "else:\n",
    "    print(\"La frase no termina en un signo de exclamación.\")"
   ]
  },
  {
   "cell_type": "markdown",
   "metadata": {},
   "source": [
    "## Ejercicio 3: Calculadora con validación manual\n",
    "\n",
    "**Enunciado:**\n",
    "- Pide al usuario dos números y un operador (+, -, *, /).\n",
    "- Calcula el resultado si el operador es válido.\n",
    "- Si el operador no es válido, muestra un error.\n",
    "- Si el segundo número es 0 y el operador es división, muestra un error para evitar división por cero.\n",
    "- No uses try-except; solo if-else para validar."
   ]
  },
  {
   "cell_type": "code",
   "execution_count": null,
   "metadata": {},
   "outputs": [],
   "source": [
    "num1_str = input(\"Ingresa el primer número: \")\n",
    "num2_str = input(\"Ingresa el segundo número: \")\n",
    "\n",
    "# Validamos que los números sean realmente números usando isdigit o reemplazando un posible punto\n",
    "if num1_str.replace(\".\", \"\").isdigit() and num2_str.replace(\".\", \"\").isdigit():\n",
    "    num1 = float(num1_str)\n",
    "    num2 = float(num2_str)\n",
    "    operador = input(\"Ingresa un operador (+, -, *, /): \")\n",
    "\n",
    "    if operador == \"+\":\n",
    "        print(f\"El resultado es: {num1 + num2}\")\n",
    "    elif operador == \"-\":\n",
    "        print(f\"El resultado es: {num1 - num2}\")\n",
    "    elif operador == \"*\":\n",
    "        print(f\"El resultado es: {num1 * num2}\")\n",
    "    elif operador == \"/\":\n",
    "        if num2 != 0:\n",
    "            print(f\"El resultado es: {num1 / num2}\")\n",
    "        else:\n",
    "            print(\"Error: No se puede dividir por cero.\")\n",
    "    else:\n",
    "        print(\"Operador inválido. Solo se permite +, -, * o /.\")\n",
    "else:\n",
    "    print(\"Error: Debes ingresar números válidos.\")"
   ]
  }
 ],
 "metadata": {
  "kernelspec": {
   "display_name": "Python 3",
   "language": "python",
   "name": "python3"
  },
  "language_info": {
   "name": "python",
   "version": ""
  }
 },
 "nbformat": 4,
 "nbformat_minor": 4
}
