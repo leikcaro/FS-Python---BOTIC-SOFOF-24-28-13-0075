{
 "cells": [
  {
   "cell_type": "markdown",
   "metadata": {},
   "source": [
    "# Ejercicios prácticos: Cadenas, Estructuras de Datos y Control de Flujo\n",
    "\n",
    "En este notebook desarrollarás ejercicios que integran los temas trabajados: manejo de cadenas, listas/tuplas/sets/diccionarios y estructuras de control como if, for y while."
   ]
  },
  {
   "cell_type": "markdown",
   "metadata": {},
   "source": [
    "## Ejercicios sobre cadenas"
   ]
  },
  {
   "cell_type": "markdown",
   "metadata": {},
   "source": [
    "**Ejercicio 1**\n",
    "\n",
    "Pide al usuario su nombre y devuelve un mensaje de saludo en mayúsculas."
   ]
  },
  {
   "cell_type": "markdown",
   "metadata": {},
   "source": [
    "**Ejercicio 2**\n",
    "\n",
    "Cuenta cuántas veces aparece la letra \"a\" en la frase: \"Aprender Python es una gran habilidad para el futuro.\""
   ]
  },
  {
   "cell_type": "markdown",
   "metadata": {},
   "source": [
    "**Ejercicio 3**\n",
    "\n",
    "Transforma la frase \"Python es divertido y poderoso\" en una lista de palabras usando split(), y luego vuelve a unirlas separadas por guiones."
   ]
  },
  {
   "cell_type": "markdown",
   "metadata": {},
   "source": [
    "## Ejercicios sobre listas y tuplas"
   ]
  },
  {
   "cell_type": "markdown",
   "metadata": {},
   "source": [
    "**Ejercicio 4**\n",
    "\n",
    "Crea una lista con los números del 1 al 5. Usa append() para agregar el número 6 y remove() para eliminar el 3."
   ]
  },
  {
   "cell_type": "markdown",
   "metadata": {},
   "source": [
    "**Ejercicio 5**\n",
    "\n",
    "Crea una tupla con los días de la semana y muestra el tercer elemento."
   ]
  },
  {
   "cell_type": "markdown",
   "metadata": {},
   "source": [
    "**Ejercicio 6**\n",
    "\n",
    "Usa un set para almacenar los colores \"rojo\", \"azul\", \"rojo\", \"verde\", y muestra el set para comprobar que no hay elementos repetidos."
   ]
  },
  {
   "cell_type": "markdown",
   "metadata": {},
   "source": [
    "**Ejercicio 7**\n",
    "\n",
    "Crea un diccionario con claves: \"nombre\", \"edad\" y \"ciudad\". Asigna valores ficticios y muestra el valor asociado a la clave \"ciudad\"."
   ]
  },
  {
   "cell_type": "markdown",
   "metadata": {},
   "source": [
    "## Ejercicios de control de flujo"
   ]
  },
  {
   "cell_type": "markdown",
   "metadata": {},
   "source": [
    "**Ejercicio 8**\n",
    "\n",
    "Pide un número entero al usuario y determina si es positivo, negativo o cero usando if, elif y else."
   ]
  },
  {
   "cell_type": "markdown",
   "metadata": {},
   "source": [
    "**Ejercicio 9**\n",
    "\n",
    "Usa un ciclo for para imprimir los números pares del 2 al 20."
   ]
  },
  {
   "cell_type": "markdown",
   "metadata": {},
   "source": [
    "**Ejercicio 10**\n",
    "\n",
    "Usa un ciclo while para pedir números al usuario hasta que ingrese un número mayor a 100. Cuando lo haga, imprime \"¡Número grande detectado!\"."
   ]
  }
 ],
 "metadata": {
  "kernelspec": {
   "display_name": "Python 3",
   "language": "python",
   "name": "python3"
  },
  "language_info": {
   "name": "python",
   "version": ""
  }
 },
 "nbformat": 4,
 "nbformat_minor": 4
}
