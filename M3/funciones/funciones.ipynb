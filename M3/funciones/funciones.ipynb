{
 "cells": [
  {
   "cell_type": "markdown",
   "metadata": {},
   "source": [
    "# Funciones en Python"
   ]
  },
  {
   "cell_type": "markdown",
   "metadata": {},
   "source": [
    "Declaración de la función"
   ]
  },
  {
   "cell_type": "code",
   "execution_count": 4,
   "metadata": {},
   "outputs": [
    {
     "name": "stdout",
     "output_type": "stream",
     "text": [
      "Hola, soy una función\n",
      "None\n"
     ]
    }
   ],
   "source": [
    "def nombre_funcion():\n",
    "    # Código a ejecutar\n",
    "    print(\"Hola, soy una función\")\n",
    "\n",
    "print(nombre_funcion())"
   ]
  },
  {
   "cell_type": "markdown",
   "metadata": {},
   "source": [
    "Llamada a la función"
   ]
  },
  {
   "cell_type": "code",
   "execution_count": 5,
   "metadata": {},
   "outputs": [
    {
     "name": "stdout",
     "output_type": "stream",
     "text": [
      "Hola, soy una función\n"
     ]
    }
   ],
   "source": [
    "nombre_funcion()  # Ejecuta el código dentro de la función\n"
   ]
  },
  {
   "cell_type": "code",
   "execution_count": 7,
   "metadata": {},
   "outputs": [
    {
     "name": "stdout",
     "output_type": "stream",
     "text": [
      "Hola, Carlos\n"
     ]
    }
   ],
   "source": [
    "def saludar(nombre):\n",
    "    print(\"Hola,\", nombre)\n",
    "\n",
    "saludar(\"Carlos\")  # Hola, Carlos\n"
   ]
  },
  {
   "cell_type": "code",
   "execution_count": 8,
   "metadata": {},
   "outputs": [
    {
     "name": "stdout",
     "output_type": "stream",
     "text": [
      "La suma es: 7\n"
     ]
    }
   ],
   "source": [
    "def sumar(a, b):\n",
    "    \n",
    "    return a + b\n",
    "\n",
    "resultado = sumar(3, 4)\n",
    "print(\"La suma es:\", resultado)  \n"
   ]
  },
  {
   "cell_type": "code",
   "execution_count": 23,
   "metadata": {},
   "outputs": [
    {
     "name": "stdout",
     "output_type": "stream",
     "text": [
      "El resultado es: 15\n"
     ]
    }
   ],
   "source": [
    "def multiplicar(a, b):\n",
    "    return a * b\n",
    "\n",
    "resultado = multiplicar(5, 3)\n",
    "print(\"El resultado es:\", resultado)  # El resultado es: 15\n"
   ]
  },
  {
   "cell_type": "code",
   "execution_count": 25,
   "metadata": {},
   "outputs": [
    {
     "name": "stdout",
     "output_type": "stream",
     "text": [
      "El resultado es: 225\n"
     ]
    }
   ],
   "source": [
    "#deseamos multiplicar dos numeros y elevarlos \n",
    "def multiplicar(a, b):\n",
    "\n",
    "    return a * b\n",
    "\n",
    "def elevar_a_2(c):\n",
    "    return c**2\n",
    "\n",
    "multiplicados = multiplicar(5, 3)\n",
    "\n",
    "resultado = elevar_a_2(multiplicados)\n",
    "\n",
    "print(\"El resultado es:\", resultado)  \n"
   ]
  },
  {
   "cell_type": "code",
   "execution_count": 12,
   "metadata": {},
   "outputs": [
    {
     "name": "stdout",
     "output_type": "stream",
     "text": [
      "15\n"
     ]
    }
   ],
   "source": [
    "def sumar_todos(*numeros):\n",
    "    \"\"\"esta funcion permite sumar\n",
    "    más de un elemento\"\"\"\n",
    "    suma = 0\n",
    "    for num in numeros:\n",
    "        suma += num\n",
    "    return suma\n",
    "\n",
    "print(sumar_todos(1,2,3,4,5))  # 10\n"
   ]
  },
  {
   "cell_type": "code",
   "execution_count": null,
   "metadata": {},
   "outputs": [],
   "source": [
    "def mostrar_informacion(**kwargs):\n",
    "    for clave, valor in kwargs.items():\n",
    "        print(f\"{clave}: {valor}\")\n",
    "\n",
    "mostrar_informacion(nombre=\"Carlos\", edad=30)  # nombre: Carlos, edad: 30\n"
   ]
  },
  {
   "cell_type": "code",
   "execution_count": 22,
   "metadata": {},
   "outputs": [
    {
     "name": "stdout",
     "output_type": "stream",
     "text": [
      "2\n"
     ]
    }
   ],
   "source": [
    "def mi_funcion():\n",
    "    #x = 10  # Ámbito local\n",
    "    print(x)\n",
    "x=2\n",
    "mi_funcion()\n",
    "# Error: x no está definida fuera de la función\n"
   ]
  },
  {
   "cell_type": "code",
   "execution_count": 28,
   "metadata": {},
   "outputs": [
    {
     "name": "stdout",
     "output_type": "stream",
     "text": [
      "40\n"
     ]
    }
   ],
   "source": [
    "z = 30\n",
    "\n",
    "def modificar_global():\n",
    "    \n",
    "    global z\n",
    "    z = 40\n",
    "\n",
    "modificar_global()\n",
    "print(z)  # 40\n"
   ]
  },
  {
   "cell_type": "code",
   "execution_count": 9,
   "metadata": {},
   "outputs": [],
   "source": [
    "def saludar(nombre):\n",
    "    \"\"\"\n",
    "    Esta función imprime un saludo personalizado.\n",
    "    Parámetros:\n",
    "        nombre (str): El nombre de la persona a saludar.\n",
    "    \"\"\"\n",
    "    print(f\"Hola, {nombre}!\")\n"
   ]
  },
  {
   "cell_type": "code",
   "execution_count": 10,
   "metadata": {},
   "outputs": [
    {
     "name": "stdout",
     "output_type": "stream",
     "text": [
      "Hola, Pilar!\n"
     ]
    }
   ],
   "source": [
    "saludar(\"Pilar\")"
   ]
  },
  {
   "cell_type": "code",
   "execution_count": 11,
   "metadata": {},
   "outputs": [
    {
     "name": "stdout",
     "output_type": "stream",
     "text": [
      "7\n"
     ]
    }
   ],
   "source": [
    "suma = lambda a, b: a + b\n",
    "print(suma(3, 4))  # 7\n"
   ]
  },
  {
   "cell_type": "code",
   "execution_count": 13,
   "metadata": {},
   "outputs": [
    {
     "name": "stdout",
     "output_type": "stream",
     "text": [
      "[1, 4, 9, 16, 25]\n"
     ]
    }
   ],
   "source": [
    "numeros = [1, 2, 3, 4, 5]\n",
    "\n",
    "# Lista vacía para almacenar los resultados\n",
    "cuadrados = []\n",
    "\n",
    "# Usando un ciclo for para aplicar la función lambda\n",
    "for num in numeros:\n",
    "    cuadrados.append((lambda x: x ** 2)(num))\n",
    "\n",
    "print(cuadrados)  # [1, 4, 9, 16, 25]\n"
   ]
  },
  {
   "cell_type": "code",
   "execution_count": 12,
   "metadata": {},
   "outputs": [
    {
     "name": "stdout",
     "output_type": "stream",
     "text": [
      "120\n"
     ]
    }
   ],
   "source": [
    "def factorial(n):\n",
    "    if n == 1:\n",
    "        return 1\n",
    "    else:\n",
    "        return n * factorial(n-1)\n",
    "\n",
    "print(factorial(5))  # 120\n"
   ]
  },
  {
   "cell_type": "markdown",
   "metadata": {},
   "source": [
    "## Ejercicios"
   ]
  },
  {
   "cell_type": "markdown",
   "metadata": {},
   "source": [
    "## Suma de Elementos de una Lista\n",
    "\n",
    "Crea una función que reciba una lista de números y devuelva la suma de todos sus elementos."
   ]
  },
  {
   "cell_type": "code",
   "execution_count": null,
   "metadata": {},
   "outputs": [],
   "source": [
    "def sumar_lista(numeros):\n",
    "\n",
    "    suma = 0\n",
    "    for num in numeros:\n",
    "        suma += num\n",
    "    return suma\n",
    "\n",
    "# Prueba\n",
    "lista = [1, 2, 3, 4, 5]\n",
    "print(sumar_lista(lista))  # Resultado: 15\n"
   ]
  },
  {
   "cell_type": "markdown",
   "metadata": {},
   "source": [
    "## Contar Elementos Positivos\n",
    "\n",
    "Escribe una función que reciba una lista de números y cuente cuántos de ellos son positivos."
   ]
  },
  {
   "cell_type": "code",
   "execution_count": null,
   "metadata": {},
   "outputs": [],
   "source": [
    "def contar_positivos(numeros):\n",
    "\n",
    "    contador = 0\n",
    "    for num in numeros:\n",
    "        if num > 0:\n",
    "            contador += 1\n",
    "    return contador\n",
    "\n",
    "# Prueba\n",
    "lista = [-1, 2, -3, 4, 5]\n",
    "print(contar_positivos(lista))  # Resultado: 3\n"
   ]
  },
  {
   "cell_type": "markdown",
   "metadata": {},
   "source": [
    "## Imprimir Lista Invertida\n",
    "\n",
    "Crea una función que reciba una lista de cualquier tipo y la imprima en orden inverso."
   ]
  },
  {
   "cell_type": "code",
   "execution_count": null,
   "metadata": {},
   "outputs": [],
   "source": [
    "def imprimir_invertida(lista):\n",
    "    for elemento in lista[::-1]:\n",
    "        print(elemento)\n",
    "\n",
    "# Prueba\n",
    "lista = ['a', 'b', 'c', 'd']\n",
    "imprimir_invertida(lista)\n"
   ]
  },
  {
   "cell_type": "markdown",
   "metadata": {},
   "source": [
    "## Producto de los Números de una Lista\n",
    "\n",
    "Escribe una función que multiplique todos los elementos de una lista de números y devuelva el resultado."
   ]
  },
  {
   "cell_type": "code",
   "execution_count": null,
   "metadata": {},
   "outputs": [],
   "source": [
    "def producto_lista(numeros):\n",
    "    producto = 1\n",
    "    for num in numeros:\n",
    "        producto *= num\n",
    "    return producto\n",
    "\n",
    "# Prueba\n",
    "lista = [1, 2, 3, 4]\n",
    "print(producto_lista(lista))  # Resultado: 24\n"
   ]
  },
  {
   "cell_type": "markdown",
   "metadata": {},
   "source": [
    "## Eliminar Números Impares\n",
    "\n",
    "Crea una función que reciba una lista de números y elimine todos los números impares."
   ]
  },
  {
   "cell_type": "code",
   "execution_count": null,
   "metadata": {},
   "outputs": [],
   "source": [
    "def eliminar_impares(lista):\n",
    "    return [num for num in lista if num % 2 == 0]\n",
    "\n",
    "# Prueba\n",
    "lista = [1, 2, 3, 4, 5, 6]\n",
    "print(eliminar_impares(lista))  # Resultado: [2, 4, 6]\n"
   ]
  },
  {
   "cell_type": "markdown",
   "metadata": {},
   "source": [
    "## Dividir Lista en Pares e Impares\n",
    "\n",
    "Escribe una función que divida una lista de números en dos listas: una con números pares y otra con números impares."
   ]
  },
  {
   "cell_type": "code",
   "execution_count": null,
   "metadata": {},
   "outputs": [],
   "source": [
    "def dividir_pares_impares(lista):\n",
    "    pares = []\n",
    "    impares = []\n",
    "    for num in lista:\n",
    "        if num % 2 == 0:\n",
    "            pares.append(num)\n",
    "        else:\n",
    "            impares.append(num)\n",
    "    return pares, impares\n",
    "\n",
    "# Prueba\n",
    "lista = [1, 2, 3, 4, 5, 6]\n",
    "pares, impares = dividir_pares_impares(lista)\n",
    "print(\"Pares:\", pares)       # Resultado: [2, 4, 6]\n",
    "print(\"Impares:\", impares)   # Resultado: [1, 3, 5]\n"
   ]
  },
  {
   "cell_type": "markdown",
   "metadata": {},
   "source": [
    "## Contar Ocurrencias de Cada Elemento\n",
    "\n",
    "Crea una función que reciba una lista y devuelva una lista de tuplas, donde cada tupla contenga un elemento y el número de veces que aparece en la lista original."
   ]
  },
  {
   "cell_type": "code",
   "execution_count": null,
   "metadata": {},
   "outputs": [],
   "source": [
    "def contar_ocurrencias(lista):\n",
    "    ocurrencias = []\n",
    "    for elemento in lista:\n",
    "        contador = lista.count(elemento)\n",
    "        if (elemento, contador) not in ocurrencias:\n",
    "            ocurrencias.append((elemento, contador))\n",
    "    return ocurrencias\n",
    "\n",
    "# Prueba\n",
    "lista = [1, 2, 2, 3, 3, 3, 4, 4, 4, 4]\n",
    "print(contar_ocurrencias(lista))\n",
    "# Resultado: [(1, 1), (2, 2), (3, 3), (4, 4)]\n"
   ]
  },
  {
   "cell_type": "markdown",
   "metadata": {},
   "source": [
    "## ejercicio con argv"
   ]
  },
  {
   "cell_type": "markdown",
   "metadata": {},
   "source": [
    "## ¿Cómo funciona el código?\n",
    "\n",
    "import sys: Importamos el módulo sys para acceder a los argumentos de la línea de comandos con sys.argv.\n",
    "\n",
    "sys.argv[1:]: Tomamos todos los argumentos que se ingresan en la terminal, excluyendo el nombre del archivo que siempre está en sys.argv[0].\n",
    "\n",
    "### Función sumar_pares(numeros):\n",
    "\n",
    "La función recorre la lista de números (como str).\n",
    "\n",
    "Verifica si cada argumento es un número entero (con isdigit()).\n",
    "\n",
    "Si es un número par, lo suma a la variable suma.\n",
    "\n",
    "Si no se proporcionan números, imprime un mensaje de advertencia.\n",
    "\n",
    "Condicional: Verifica si un número es par con num % 2 == 0.\n",
    "\n",
    "Bucle for: Recorre los argumentos pasados desde la terminal.\n",
    "\n",
    "probemos pasando esto a un archivo python como: \n",
    "\n",
    "* python script.py 10 15 20 hola 22\n"
   ]
  },
  {
   "cell_type": "markdown",
   "metadata": {},
   "source": []
  },
  {
   "cell_type": "code",
   "execution_count": null,
   "metadata": {},
   "outputs": [],
   "source": [
    "# archivo: mi_modulo.py\n",
    "def saludar(nombre):\n",
    "    return f\"Hola, {nombre}\"\n",
    "\n",
    "PI = 3.14159\n",
    "\n"
   ]
  },
  {
   "cell_type": "code",
   "execution_count": null,
   "metadata": {},
   "outputs": [],
   "source": [
    "# archivo: main.py\n",
    "import mi_modulo\n",
    "\n",
    "print(mi_modulo.saludar(\"Carlos\"))  # \"Hola, Carlos\"\n",
    "print(mi_modulo.PI)  # 3.14159\n"
   ]
  },
  {
   "cell_type": "code",
   "execution_count": null,
   "metadata": {},
   "outputs": [],
   "source": [
    "from mi_modulo import saludar, PI\n",
    "\n",
    "print(saludar(\"Ana\"))  # \"Hola, Ana\"\n",
    "print(PI)  # 3.14159\n"
   ]
  },
  {
   "cell_type": "code",
   "execution_count": null,
   "metadata": {},
   "outputs": [],
   "source": [
    "import mi_modulo as mod\n",
    "\n",
    "print(mod.saludar(\"Luis\"))  # \"Hola, Luis\"\n"
   ]
  },
  {
   "cell_type": "code",
   "execution_count": null,
   "metadata": {},
   "outputs": [],
   "source": [
    "from .modulo1 import saludar\n",
    "from .modulo2 import despedirse\n"
   ]
  }
 ],
 "metadata": {
  "kernelspec": {
   "display_name": "base",
   "language": "python",
   "name": "python3"
  },
  "language_info": {
   "codemirror_mode": {
    "name": "ipython",
    "version": 3
   },
   "file_extension": ".py",
   "mimetype": "text/x-python",
   "name": "python",
   "nbconvert_exporter": "python",
   "pygments_lexer": "ipython3",
   "version": "3.9.18"
  }
 },
 "nbformat": 4,
 "nbformat_minor": 2
}
