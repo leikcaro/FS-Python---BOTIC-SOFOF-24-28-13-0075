{
 "cells": [
  {
   "cell_type": "markdown",
   "metadata": {},
   "source": [
    "# Funciones en Python"
   ]
  },
  {
   "cell_type": "markdown",
   "metadata": {},
   "source": [
    "Declaración de la función"
   ]
  },
  {
   "cell_type": "code",
   "execution_count": 1,
   "metadata": {},
   "outputs": [],
   "source": [
    "def nombre_funcion():\n",
    "    # Código a ejecutar\n",
    "    print(\"Hola, soy una función\")\n"
   ]
  },
  {
   "cell_type": "markdown",
   "metadata": {},
   "source": [
    "Llamada a la función"
   ]
  },
  {
   "cell_type": "code",
   "execution_count": 2,
   "metadata": {},
   "outputs": [
    {
     "name": "stdout",
     "output_type": "stream",
     "text": [
      "Hola, soy una función\n"
     ]
    }
   ],
   "source": [
    "nombre_funcion()  # Ejecuta el código dentro de la función\n"
   ]
  },
  {
   "cell_type": "code",
   "execution_count": 3,
   "metadata": {},
   "outputs": [
    {
     "name": "stdout",
     "output_type": "stream",
     "text": [
      "Hola, Carlos\n"
     ]
    }
   ],
   "source": [
    "def saludar(nombre):\n",
    "    print(\"Hola,\", nombre)\n",
    "\n",
    "saludar(\"Carlos\")  # Hola, Carlos\n"
   ]
  },
  {
   "cell_type": "code",
   "execution_count": 6,
   "metadata": {},
   "outputs": [
    {
     "name": "stdout",
     "output_type": "stream",
     "text": [
      "La suma es: 4\n"
     ]
    }
   ],
   "source": [
    "def sumar(a=2, b=5):\n",
    "    return a + b\n",
    "\n",
    "resultado = sumar(b=2)\n",
    "print(\"La suma es:\", resultado)  \n"
   ]
  },
  {
   "cell_type": "code",
   "execution_count": null,
   "metadata": {},
   "outputs": [
    {
     "name": "stdout",
     "output_type": "stream",
     "text": [
      "21\n"
     ]
    }
   ],
   "source": [
    "def sumar_todos(*numeros):\n",
    "    suma = 0\n",
    "    for num in numeros:\n",
    "        suma += num\n",
    "    return suma\n",
    "\n",
    "print(sumar_todos(1, 2, 3, 4, 5, 6))  # 10\n"
   ]
  },
  {
   "cell_type": "code",
   "execution_count": 9,
   "metadata": {},
   "outputs": [
    {
     "name": "stdout",
     "output_type": "stream",
     "text": [
      "nombre: Carlos\n",
      "edad: 30\n"
     ]
    }
   ],
   "source": [
    "def mostrar_informacion(**kwargs):\n",
    "    for clave, valor in kwargs.items():\n",
    "        print(f\"{clave}: {valor}\")\n",
    "\n",
    "mostrar_informacion(nombre=\"Carlos\", edad=30)  # nombre: Carlos, edad: 30\n"
   ]
  },
  {
   "cell_type": "code",
   "execution_count": 10,
   "metadata": {},
   "outputs": [
    {
     "name": "stdout",
     "output_type": "stream",
     "text": [
      "10\n"
     ]
    }
   ],
   "source": [
    "def mi_funcion():\n",
    "    x = 10  # Ámbito local\n",
    "    print(x)\n",
    "\n",
    "mi_funcion()\n",
    "# print(x)  # Error: x no está definida fuera de la función\n"
   ]
  },
  {
   "cell_type": "code",
   "execution_count": 11,
   "metadata": {},
   "outputs": [
    {
     "name": "stdout",
     "output_type": "stream",
     "text": [
      "El resultado es: 15\n"
     ]
    }
   ],
   "source": [
    "def multiplicar(a, b):\n",
    "    return a * b\n",
    "\n",
    "resultado = multiplicar(5, 3)\n",
    "print(\"El resultado es:\", resultado)  # El resultado es: 15\n"
   ]
  },
  {
   "cell_type": "code",
   "execution_count": 8,
   "metadata": {},
   "outputs": [
    {
     "name": "stdout",
     "output_type": "stream",
     "text": [
      "El resultado es: 225\n"
     ]
    }
   ],
   "source": [
    "#deseamos multiplicar dos numeros y elevarlos \n",
    "def multiplicar(a, b):\n",
    "    return a * b\n",
    "\n",
    "def elevar_a_2(c):\n",
    "    return c**2\n",
    "\n",
    "multiplicados = multiplicar(5, 3)\n",
    "\n",
    "resultado = elevar_a_2(multiplicados)\n",
    "\n",
    "print(\"El resultado es:\", resultado)  \n"
   ]
  },
  {
   "cell_type": "code",
   "execution_count": 12,
   "metadata": {},
   "outputs": [
    {
     "name": "stdout",
     "output_type": "stream",
     "text": [
      "40\n"
     ]
    }
   ],
   "source": [
    "z = 30\n",
    "\n",
    "def modificar_global():\n",
    "    global z\n",
    "    z = 40\n",
    "\n",
    "modificar_global()\n",
    "print(z)  # 40\n"
   ]
  },
  {
   "cell_type": "code",
   "execution_count": 9,
   "metadata": {},
   "outputs": [],
   "source": [
    "def saludar(nombre):\n",
    "    \"\"\"\n",
    "    Esta función imprime un saludo personalizado.\n",
    "    Parámetros:\n",
    "        nombre (str): El nombre de la persona a saludar.\n",
    "    \"\"\"\n",
    "    print(f\"Hola, {nombre}!\")\n"
   ]
  },
  {
   "cell_type": "code",
   "execution_count": 10,
   "metadata": {},
   "outputs": [
    {
     "name": "stdout",
     "output_type": "stream",
     "text": [
      "Hola, Pilar!\n"
     ]
    }
   ],
   "source": [
    "saludar(\"Pilar\")"
   ]
  },
  {
   "cell_type": "code",
   "execution_count": 14,
   "metadata": {},
   "outputs": [
    {
     "name": "stdout",
     "output_type": "stream",
     "text": [
      "7\n"
     ]
    }
   ],
   "source": [
    "suma = lambda a, b: a + b\n",
    "print(suma(3, 4))  # 7\n"
   ]
  },
  {
   "cell_type": "code",
   "execution_count": 13,
   "metadata": {},
   "outputs": [
    {
     "name": "stdout",
     "output_type": "stream",
     "text": [
      "[1, 4, 9, 16, 25]\n"
     ]
    }
   ],
   "source": [
    "numeros = [1, 2, 3, 4, 5]\n",
    "\n",
    "# Lista vacía para almacenar los resultados\n",
    "cuadrados = []\n",
    "\n",
    "# Usando un ciclo for para aplicar la función lambda\n",
    "for num in numeros:\n",
    "    cuadrados.append((lambda x: x ** 2)(num))\n",
    "\n",
    "print(cuadrados)  # [1, 4, 9, 16, 25]\n"
   ]
  },
  {
   "cell_type": "code",
   "execution_count": 12,
   "metadata": {},
   "outputs": [
    {
     "name": "stdout",
     "output_type": "stream",
     "text": [
      "120\n"
     ]
    }
   ],
   "source": [
    "def factorial(n):\n",
    "    if n == 1:\n",
    "        return 1\n",
    "    else:\n",
    "        return n * factorial(n-1)\n",
    "\n",
    "print(factorial(5))  # 120\n"
   ]
  },
  {
   "cell_type": "markdown",
   "metadata": {},
   "source": [
    "## Ejercicios"
   ]
  },
  {
   "cell_type": "markdown",
   "metadata": {},
   "source": [
    "## Suma de Elementos de una Lista\n",
    "\n",
    "Crea una función que reciba una lista de números y devuelva la suma de todos sus elementos."
   ]
  },
  {
   "cell_type": "code",
   "execution_count": 4,
   "metadata": {},
   "outputs": [
    {
     "name": "stdout",
     "output_type": "stream",
     "text": [
      "15\n",
      "26\n"
     ]
    }
   ],
   "source": [
    "lista = [1, 2, 3, 4, 5]\n",
    "lista_2 = [6, -7, 8, 9, 10]\n",
    "\n",
    "def sumar(a):\n",
    "    suma = 0\n",
    "    for num in a:\n",
    "        suma += num\n",
    "    return suma\n",
    "\n",
    "resultado= sumar(lista)\n",
    "print(resultado)\n",
    "\n",
    "resultado_2= sumar(lista_2)\n",
    "print(resultado_2)"
   ]
  },
  {
   "cell_type": "markdown",
   "metadata": {},
   "source": [
    "## Contar Elementos Positivos\n",
    "\n",
    "Escribe una función que reciba una lista de números y cuente cuántos de ellos son positivos.\n",
    "\n"
   ]
  },
  {
   "cell_type": "code",
   "execution_count": 7,
   "metadata": {},
   "outputs": [
    {
     "name": "stdout",
     "output_type": "stream",
     "text": [
      "5\n",
      "4\n"
     ]
    }
   ],
   "source": [
    "def contar_positivos(b):\n",
    "    contador_positivos = 0\n",
    "    for num in b:\n",
    "        if num > 0:\n",
    "            contador_positivos += 1\n",
    "    return contador_positivos\n",
    "\n",
    "print(contar_positivos(lista))  # 5\n",
    "print(contar_positivos(lista_2))  # 5"
   ]
  },
  {
   "cell_type": "markdown",
   "metadata": {},
   "source": [
    "## Imprimir Lista Invertida\n",
    "\n",
    "Crea una función que reciba una lista de cualquier tipo y la imprima en orden inverso.\n",
    "\n"
   ]
  },
  {
   "cell_type": "code",
   "execution_count": 11,
   "metadata": {},
   "outputs": [
    {
     "name": "stdout",
     "output_type": "stream",
     "text": [
      "CPU times: total: 0 ns\n",
      "Wall time: 0 ns\n"
     ]
    },
    {
     "data": {
      "text/plain": [
       "[5, 4, 3, 2, 1]"
      ]
     },
     "execution_count": 11,
     "metadata": {},
     "output_type": "execute_result"
    }
   ],
   "source": [
    "%%time\n",
    "def orden_invertido(c):\n",
    "    c.reverse()\n",
    "    return c\n",
    "\n",
    "orden_invertido(lista)"
   ]
  },
  {
   "cell_type": "markdown",
   "metadata": {},
   "source": [
    "## Producto de los Números de una Lista\n",
    "\n",
    "Escribe una función que multiplique todos los elementos de una lista de números y devuelva el resultado."
   ]
  },
  {
   "cell_type": "code",
   "execution_count": null,
   "metadata": {},
   "outputs": [
    {
     "data": {
      "text/plain": [
       "12"
      ]
     },
     "execution_count": 12,
     "metadata": {},
     "output_type": "execute_result"
    }
   ],
   "source": [
    "lista_3=[3,4]\n",
    "def multiplicar_elementos(d):\n",
    "    resultado = 1\n",
    "    for numero in d:\n",
    "        resultado *= numero\n",
    "    return resultado\n",
    "\n",
    "multiplicar_elementos(lista_3)"
   ]
  },
  {
   "cell_type": "markdown",
   "metadata": {},
   "source": [
    "## Eliminar Números Impares\n",
    "\n",
    "Crea una función que reciba una lista de números y elimine todos los números impares."
   ]
  },
  {
   "cell_type": "code",
   "execution_count": 27,
   "metadata": {},
   "outputs": [
    {
     "name": "stdout",
     "output_type": "stream",
     "text": [
      "El rango es  range(0, 6)\n",
      "El contador es: 0\n",
      "El elemento es: 2\n",
      "El contador es: 1\n",
      "El elemento es: 2\n",
      "El contador es: 2\n",
      "El elemento es: 3\n",
      "El contador es: 3\n",
      "El elemento es: 3\n",
      "El contador es: 4\n",
      "El elemento es: 4\n",
      "El contador es: 5\n",
      "El elemento es: 4\n",
      "CPU times: total: 0 ns\n",
      "Wall time: 0 ns\n"
     ]
    },
    {
     "data": {
      "text/plain": [
       "[2, 2, 4, 4]"
      ]
     },
     "execution_count": 27,
     "metadata": {},
     "output_type": "execute_result"
    }
   ],
   "source": [
    "%%time\n",
    "lista_4 = [2,2,3,3,4,4]\n",
    "def eliminar_impares(e):\n",
    "    lista_impares=[]\n",
    "    print(\"El rango es \", range(len(e)))\n",
    "    for i in range(len(e)):\n",
    "        print(\"El contador es:\", i)\n",
    "        print(\"El elemento es:\", e[i])\n",
    "        if e[i]%2 == 0:\n",
    "            lista_impares.append(e[i])\n",
    "    return lista_impares\n",
    "\n",
    "eliminar_impares(lista_4)\n"
   ]
  },
  {
   "cell_type": "markdown",
   "metadata": {},
   "source": [
    "## Ordenar Lista de Números\n",
    "\n",
    "Escribe una función que implemente el algoritmo de ordenamiento de burbuja para ordenar una lista de números."
   ]
  },
  {
   "cell_type": "markdown",
   "metadata": {},
   "source": [
    "## Dividir Lista en Pares e Impares\n",
    "\n",
    "Escribe una función que divida una lista de números en dos listas: una con números pares y otra con números impares."
   ]
  },
  {
   "cell_type": "markdown",
   "metadata": {},
   "source": [
    "## Contar Ocurrencias de Cada Elemento\n",
    "\n",
    "Crea una función que reciba una lista y devuelva una lista de tuplas, donde cada tupla contenga un elemento y el número de veces que aparece en la lista original."
   ]
  },
  {
   "cell_type": "markdown",
   "metadata": {},
   "source": []
  }
 ],
 "metadata": {
  "kernelspec": {
   "display_name": "base",
   "language": "python",
   "name": "python3"
  },
  "language_info": {
   "codemirror_mode": {
    "name": "ipython",
    "version": 3
   },
   "file_extension": ".py",
   "mimetype": "text/x-python",
   "name": "python",
   "nbconvert_exporter": "python",
   "pygments_lexer": "ipython3",
   "version": "3.12.7"
  }
 },
 "nbformat": 4,
 "nbformat_minor": 2
}
