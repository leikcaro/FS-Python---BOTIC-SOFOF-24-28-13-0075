{
 "cells": [
  {
   "cell_type": "markdown",
   "metadata": {},
   "source": [
    "# Funciones en Python"
   ]
  },
  {
   "cell_type": "markdown",
   "metadata": {},
   "source": [
    "Declaración de la función"
   ]
  },
  {
   "cell_type": "code",
   "execution_count": 1,
   "metadata": {},
   "outputs": [],
   "source": [
    "def nombre_funcion():\n",
    "    # Código a ejecutar\n",
    "    print(\"Hola, soy una función\")\n"
   ]
  },
  {
   "cell_type": "markdown",
   "metadata": {},
   "source": [
    "Llamada a la función"
   ]
  },
  {
   "cell_type": "code",
   "execution_count": 2,
   "metadata": {},
   "outputs": [
    {
     "name": "stdout",
     "output_type": "stream",
     "text": [
      "Hola, soy una función\n"
     ]
    }
   ],
   "source": [
    "nombre_funcion()  # Ejecuta el código dentro de la función\n"
   ]
  },
  {
   "cell_type": "code",
   "execution_count": 3,
   "metadata": {},
   "outputs": [
    {
     "name": "stdout",
     "output_type": "stream",
     "text": [
      "Hola, Carlos\n"
     ]
    }
   ],
   "source": [
    "def saludar(nombre):\n",
    "    print(\"Hola,\", nombre)\n",
    "\n",
    "saludar(\"Carlos\")  # Hola, Carlos\n"
   ]
  },
  {
   "cell_type": "code",
   "execution_count": 6,
   "metadata": {},
   "outputs": [
    {
     "name": "stdout",
     "output_type": "stream",
     "text": [
      "La suma es: 4\n"
     ]
    }
   ],
   "source": [
    "def sumar(a=2, b=5):\n",
    "    return a + b\n",
    "\n",
    "resultado = sumar(b=2)\n",
    "print(\"La suma es:\", resultado)  \n"
   ]
  },
  {
   "cell_type": "code",
   "execution_count": 8,
   "metadata": {},
   "outputs": [
    {
     "name": "stdout",
     "output_type": "stream",
     "text": [
      "21\n"
     ]
    }
   ],
   "source": [
    "def sumar_todos(*numeros):\n",
    "    suma = 0\n",
    "    for num in numeros:\n",
    "        suma += num\n",
    "    return suma\n",
    "\n",
    "print(sumar_todos(1, 2, 3, 4, 5, 6))  # 10\n"
   ]
  },
  {
   "cell_type": "code",
   "execution_count": 9,
   "metadata": {},
   "outputs": [
    {
     "name": "stdout",
     "output_type": "stream",
     "text": [
      "nombre: Carlos\n",
      "edad: 30\n"
     ]
    }
   ],
   "source": [
    "def mostrar_informacion(**kwargs):\n",
    "    for clave, valor in kwargs.items():\n",
    "        print(f\"{clave}: {valor}\")\n",
    "\n",
    "mostrar_informacion(nombre=\"Carlos\", edad=30)  # nombre: Carlos, edad: 30\n"
   ]
  },
  {
   "cell_type": "code",
   "execution_count": 10,
   "metadata": {},
   "outputs": [
    {
     "name": "stdout",
     "output_type": "stream",
     "text": [
      "10\n"
     ]
    }
   ],
   "source": [
    "def mi_funcion():\n",
    "    x = 10  # Ámbito local\n",
    "    print(x)\n",
    "\n",
    "mi_funcion()\n",
    "# print(x)  # Error: x no está definida fuera de la función\n"
   ]
  },
  {
   "cell_type": "code",
   "execution_count": 11,
   "metadata": {},
   "outputs": [
    {
     "name": "stdout",
     "output_type": "stream",
     "text": [
      "El resultado es: 15\n"
     ]
    }
   ],
   "source": [
    "def multiplicar(a, b):\n",
    "    return a * b\n",
    "\n",
    "resultado = multiplicar(5, 3)\n",
    "print(\"El resultado es:\", resultado)  # El resultado es: 15\n"
   ]
  },
  {
   "cell_type": "code",
   "execution_count": 8,
   "metadata": {},
   "outputs": [
    {
     "name": "stdout",
     "output_type": "stream",
     "text": [
      "El resultado es: 225\n"
     ]
    }
   ],
   "source": [
    "#deseamos multiplicar dos numeros y elevarlos \n",
    "def multiplicar(a, b):\n",
    "    return a * b\n",
    "\n",
    "def elevar_a_2(c):\n",
    "    return c**2\n",
    "\n",
    "multiplicados = multiplicar(5, 3)\n",
    "\n",
    "resultado = elevar_a_2(multiplicados)\n",
    "\n",
    "print(\"El resultado es:\", resultado)  \n"
   ]
  },
  {
   "cell_type": "code",
   "execution_count": 12,
   "metadata": {},
   "outputs": [
    {
     "name": "stdout",
     "output_type": "stream",
     "text": [
      "40\n"
     ]
    }
   ],
   "source": [
    "z = 30\n",
    "\n",
    "def modificar_global():\n",
    "    global z\n",
    "    z = 40\n",
    "\n",
    "modificar_global()\n",
    "print(z)  # 40\n"
   ]
  },
  {
   "cell_type": "code",
   "execution_count": 9,
   "metadata": {},
   "outputs": [],
   "source": [
    "def saludar(nombre):\n",
    "    \"\"\"\n",
    "    Esta función imprime un saludo personalizado.\n",
    "    Parámetros:\n",
    "        nombre (str): El nombre de la persona a saludar.\n",
    "    \"\"\"\n",
    "    print(f\"Hola, {nombre}!\")\n"
   ]
  },
  {
   "cell_type": "code",
   "execution_count": 10,
   "metadata": {},
   "outputs": [
    {
     "name": "stdout",
     "output_type": "stream",
     "text": [
      "Hola, Pilar!\n"
     ]
    }
   ],
   "source": [
    "saludar(\"Pilar\")"
   ]
  },
  {
   "cell_type": "code",
   "execution_count": 14,
   "metadata": {},
   "outputs": [
    {
     "name": "stdout",
     "output_type": "stream",
     "text": [
      "7\n"
     ]
    }
   ],
   "source": [
    "suma = lambda a, b: a + b\n",
    "print(suma(3, 4))  # 7\n"
   ]
  },
  {
   "cell_type": "code",
   "execution_count": 13,
   "metadata": {},
   "outputs": [
    {
     "name": "stdout",
     "output_type": "stream",
     "text": [
      "[1, 4, 9, 16, 25]\n"
     ]
    }
   ],
   "source": [
    "numeros = [1, 2, 3, 4, 5]\n",
    "\n",
    "# Lista vacía para almacenar los resultados\n",
    "cuadrados = []\n",
    "\n",
    "# Usando un ciclo for para aplicar la función lambda\n",
    "for num in numeros:\n",
    "    cuadrados.append((lambda x: x ** 2)(num))\n",
    "\n",
    "print(cuadrados)  # [1, 4, 9, 16, 25]\n"
   ]
  },
  {
   "cell_type": "code",
   "execution_count": 12,
   "metadata": {},
   "outputs": [
    {
     "name": "stdout",
     "output_type": "stream",
     "text": [
      "120\n"
     ]
    }
   ],
   "source": [
    "def factorial(n):\n",
    "    if n == 1:\n",
    "        return 1\n",
    "    else:\n",
    "        return n * factorial(n-1)\n",
    "\n",
    "print(factorial(5))  # 120\n"
   ]
  },
  {
   "cell_type": "markdown",
   "metadata": {},
   "source": [
    "## Ejercicios"
   ]
  },
  {
   "cell_type": "markdown",
   "metadata": {},
   "source": [
    "## Suma de Elementos de una Lista\n",
    "\n",
    "Crea una función que reciba una lista de números y devuelva la suma de todos sus elementos."
   ]
  },
  {
   "cell_type": "markdown",
   "metadata": {},
   "source": [
    "## Contar Elementos Positivos\n",
    "\n",
    "Escribe una función que reciba una lista de números y cuente cuántos de ellos son positivos."
   ]
  },
  {
   "cell_type": "markdown",
   "metadata": {},
   "source": [
    "## Imprimir Lista Invertida\n",
    "\n",
    "Crea una función que reciba una lista de cualquier tipo y la imprima en orden inverso."
   ]
  },
  {
   "cell_type": "markdown",
   "metadata": {},
   "source": [
    "## Producto de los Números de una Lista\n",
    "\n",
    "Escribe una función que multiplique todos los elementos de una lista de números y devuelva el resultado."
   ]
  },
  {
   "cell_type": "markdown",
   "metadata": {},
   "source": [
    "## Eliminar Números Impares\n",
    "\n",
    "Crea una función que reciba una lista de números y elimine todos los números impares."
   ]
  },
  {
   "cell_type": "markdown",
   "metadata": {},
   "source": [
    "## Ordenar Lista de Números\n",
    "\n",
    "Escribe una función que implemente el algoritmo de ordenamiento de burbuja para ordenar una lista de números."
   ]
  },
  {
   "cell_type": "markdown",
   "metadata": {},
   "source": [
    "## Dividir Lista en Pares e Impares\n",
    "\n",
    "Escribe una función que divida una lista de números en dos listas: una con números pares y otra con números impares."
   ]
  },
  {
   "cell_type": "markdown",
   "metadata": {},
   "source": [
    "## Contar Ocurrencias de Cada Elemento\n",
    "\n",
    "Crea una función que reciba una lista y devuelva una lista de tuplas, donde cada tupla contenga un elemento y el número de veces que aparece en la lista original."
   ]
  },
  {
   "cell_type": "markdown",
   "metadata": {},
   "source": []
  }
 ],
 "metadata": {
  "kernelspec": {
   "display_name": "base",
   "language": "python",
   "name": "python3"
  },
  "language_info": {
   "codemirror_mode": {
    "name": "ipython",
    "version": 3
   },
   "file_extension": ".py",
   "mimetype": "text/x-python",
   "name": "python",
   "nbconvert_exporter": "python",
   "pygments_lexer": "ipython3",
   "version": "3.12.7"
  }
 },
 "nbformat": 4,
 "nbformat_minor": 2
}
