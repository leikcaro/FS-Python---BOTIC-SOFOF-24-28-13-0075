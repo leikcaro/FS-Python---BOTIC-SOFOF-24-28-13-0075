{
 "cells": [
  {
   "cell_type": "markdown",
   "metadata": {},
   "source": [
    "# Match Case \n",
    "\n",
    "El match case nos permite dejar mas legible un if-else y es bastante sencillo de usar. Fue implementado en python 3.10, por lo que es relativamente reciente. \n",
    "\n",
    "Por eso lo estamos incluyendo como \"side Quest\"\n",
    "\n",
    "La estructura es, básicamente:\n",
    "\n",
    "var =input(\"Solicitamos ingresar una var\")\n",
    "\n",
    "match var:\n",
    "    case 1:\n",
    "        algo\n",
    "    case 2:\n",
    "        otro\n",
    "    case n:\n",
    "        n cosa\n",
    "    case _: (comodín)"
   ]
  },
  {
   "cell_type": "markdown",
   "metadata": {},
   "source": [
    "## Ejercicio: Clasificador de calificaciones con match-case\n",
    "### Enunciado\n",
    "Pidamosle al usuario una letra de calificación (A, B, C, D, E, F) y usa match-case para imprimir un mensaje correspondiente:\n",
    "\n",
    "A: \"Excelente trabajo\"\n",
    "\n",
    "B: \"Buen trabajo\"\n",
    "\n",
    "C: \"Suficiente, pero puedes mejorar\"\n",
    "\n",
    "D: \"Necesitas esforzarte más\"\n",
    "\n",
    "E: \"Más o menos mal\"\n",
    "\n",
    "F: \"Reprobaste, debes estudiar más\"\n",
    "\n",
    "Cualquier otra entrada: \"Calificación inválida\""
   ]
  },
  {
   "cell_type": "code",
   "execution_count": 7,
   "metadata": {},
   "outputs": [
    {
     "name": "stdout",
     "output_type": "stream",
     "text": [
      "Buen trabajo\n"
     ]
    }
   ],
   "source": [
    "cal =input(\"Ingrese una nota (A-F):  \").upper()\n",
    "\n",
    "match cal:\n",
    "    case \"A\":\n",
    "        print(\"Excelente trabajo\")\n",
    "    case \"B\":\n",
    "        print(\"Buen trabajo\")\n",
    "    case \"C\":\n",
    "        print(\"Suficiente, pero puedes mejorar\")\n",
    "    case \"D\":\n",
    "        print(\"Necesitas esforzarte más\")\n",
    "    case \"E\":\n",
    "        print(\"Más o menos mal\")\n",
    "    case \"F\":\n",
    "        print(\"Reprobaste, debes estudiar más\")    \n",
    "    case _:\n",
    "        print(\"Error: Ingrese una evaluación entre A y F\")"
   ]
  },
  {
   "cell_type": "markdown",
   "metadata": {},
   "source": [
    "# Ejercicios integradores con soluciones\n",
    "\n",
    "En este notebook encontrarás tres ejercicios que consolidan lo aprendido: uso de `match-case`, manipulación de strings, operaciones matemáticas y control de flujo. ¡A darle!"
   ]
  },
  {
   "cell_type": "markdown",
   "metadata": {},
   "source": [
    "## Ejercicio 1: Conversor de temperaturas usando match-case\n",
    "\n",
    "**Enunciado:**\n",
    "- Muestra un menú para convertir de Celsius a Fahrenheit o a Kelvin.\n",
    "- Usa `match-case` para simular un switch-case.\n",
    "- El programa debe repetirse hasta que el usuario elija salir."
   ]
  },
  {
   "cell_type": "markdown",
   "metadata": {},
   "source": [
    "## Ejercicio 2: Manipulando cadenas como un pro\n",
    "\n",
    "**Enunciado:**\n",
    "- Pide al usuario una frase.\n",
    "- Muestra la frase en minúsculas y mayúsculas.\n",
    "- Cuenta cuántas palabras tiene.\n",
    "- Reemplaza todas las \"a\" por \"@\".\n",
    "- Indica si la frase termina en un signo de exclamación."
   ]
  },
  {
   "cell_type": "markdown",
   "metadata": {},
   "source": [
    "## Ejercicio 3: Calculadora con validación manual\n",
    "\n",
    "**Enunciado:**\n",
    "- Pide al usuario dos números y un operador (+, -, *, /).\n",
    "- Calcula el resultado si el operador es válido.\n",
    "- Si el operador no es válido, muestra un error.\n",
    "- Si el segundo número es 0 y el operador es división, muestra un error para evitar división por cero.\n",
    "- No uses try-except; solo if-else para validar."
   ]
  },
  {
   "cell_type": "markdown",
   "metadata": {},
   "source": []
  }
 ],
 "metadata": {
  "kernelspec": {
   "display_name": "base",
   "language": "python",
   "name": "python3"
  },
  "language_info": {
   "codemirror_mode": {
    "name": "ipython",
    "version": 3
   },
   "file_extension": ".py",
   "mimetype": "text/x-python",
   "name": "python",
   "nbconvert_exporter": "python",
   "pygments_lexer": "ipython3",
   "version": "3.12.7"
  }
 },
 "nbformat": 4,
 "nbformat_minor": 4
}
