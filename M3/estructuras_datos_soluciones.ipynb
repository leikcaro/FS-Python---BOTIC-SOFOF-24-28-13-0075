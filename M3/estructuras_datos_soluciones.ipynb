{
 "cells": [
  {
   "cell_type": "markdown",
   "id": "dc8bdef8",
   "metadata": {},
   "source": [
    "# ✅ Soluciones: Estructuras de Datos en Python\n",
    "Este notebook contiene las soluciones comentadas de los ejercicios sobre estructuras de datos."
   ]
  },
  {
   "cell_type": "markdown",
   "id": "2a41e956",
   "metadata": {},
   "source": [
    "## 1. Listas - Manipulación Básica"
   ]
  },
  {
   "cell_type": "code",
   "execution_count": null,
   "id": "44583503",
   "metadata": {},
   "outputs": [],
   "source": [
    "frutas = ['manzana', 'banana', 'cereza', 'kiwi', 'naranja']\n",
    "frutas.append('sandía')  # Añade al final\n",
    "frutas.pop(0)            # Elimina el primer elemento\n",
    "frutas.insert(1, 'pera') # Inserta en la segunda posición\n",
    "print(\"Lista final:\", frutas)\n",
    "print(\"Largo de la lista:\", len(frutas))"
   ]
  },
  {
   "cell_type": "markdown",
   "id": "7b2b4fcb",
   "metadata": {},
   "source": [
    "## 2. Listas - Métodos útiles"
   ]
  },
  {
   "cell_type": "code",
   "execution_count": null,
   "id": "57a03923",
   "metadata": {},
   "outputs": [],
   "source": [
    "numeros = [3, 7, 2, 9, 1, 7, 3]\n",
    "cantidad = numeros.count(7)\n",
    "numeros.sort()\n",
    "numeros.pop()\n",
    "copia = numeros.copy()\n",
    "print(\"Cantidad de 7:\", cantidad)\n",
    "print(\"Lista ordenada y sin el último elemento:\", numeros)\n",
    "print(\"Copia:\", copia)"
   ]
  },
  {
   "cell_type": "markdown",
   "id": "4f9d8485",
   "metadata": {},
   "source": [
    "## 3. Tuplas"
   ]
  },
  {
   "cell_type": "code",
   "execution_count": null,
   "id": "5a17eb24",
   "metadata": {},
   "outputs": [],
   "source": [
    "colores = ('azul', 'verde', 'rojo')\n",
    "print(\"Segundo color:\", colores[1])\n",
    "# colores[1] = 'amarillo'  # Esto da error porque las tuplas son inmutables"
   ]
  },
  {
   "cell_type": "markdown",
   "id": "4a3f6804",
   "metadata": {},
   "source": [
    "## 4. Conjuntos (`set`)"
   ]
  },
  {
   "cell_type": "code",
   "execution_count": null,
   "id": "a4c8ad27",
   "metadata": {},
   "outputs": [],
   "source": [
    "pares = {2, 4, 6, 8}\n",
    "impares = {1, 3, 5, 7, 9}\n",
    "unidos = pares.union(impares)\n",
    "interseccion = pares.intersection(impares)\n",
    "pares.add(10)\n",
    "print(\"Unión:\", unidos)\n",
    "print(\"Intersección:\", interseccion)\n",
    "print(\"Pares con 10:\", pares)"
   ]
  },
  {
   "cell_type": "markdown",
   "id": "a52cb033",
   "metadata": {},
   "source": [
    "## 5. Diccionarios"
   ]
  },
  {
   "cell_type": "code",
   "execution_count": null,
   "id": "6e9375c6",
   "metadata": {},
   "outputs": [],
   "source": [
    "persona = {\n",
    "    \"nombre\": \"Laura\",\n",
    "    \"edad\": 28,\n",
    "    \"ciudad\": \"Santiago\"\n",
    "}\n",
    "print(\"Nombre:\", persona[\"nombre\"])\n",
    "persona[\"ciudad\"] = \"Valparaíso\"\n",
    "persona[\"profesión\"] = \"Ingeniera\"\n",
    "print(\"Diccionario actualizado:\", persona)"
   ]
  },
  {
   "cell_type": "markdown",
   "id": "6c2d8680",
   "metadata": {},
   "source": [
    "## 6. Desafío final"
   ]
  },
  {
   "cell_type": "code",
   "execution_count": null,
   "id": "86847d0f",
   "metadata": {},
   "outputs": [],
   "source": [
    "estudiantes = ['Ana', 'Luis', 'Pedro', 'Carla', 'Marta']\n",
    "calificaciones = {\n",
    "    'Ana': 5.7,\n",
    "    'Luis': 6.1,\n",
    "    'Pedro': 4.8,\n",
    "    'Carla': 6.3,\n",
    "    'Marta': 5.2\n",
    "}\n",
    "aprobados = [nombre for nombre in estudiantes if calificaciones[nombre] >= 5.5]\n",
    "promedio = sum(calificaciones.values()) / len(calificaciones)\n",
    "print(\"Estudiantes aprobados:\", aprobados)\n",
    "print(\"Promedio general:\", round(promedio, 2))"
   ]
  }
 ],
 "metadata": {},
 "nbformat": 4,
 "nbformat_minor": 5
}