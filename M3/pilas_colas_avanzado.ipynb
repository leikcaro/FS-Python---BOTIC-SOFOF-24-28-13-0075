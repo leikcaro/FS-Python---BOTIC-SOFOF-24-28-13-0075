{
 "cells": [
  {
   "cell_type": "markdown",
   "id": "a2b411a0",
   "metadata": {},
   "source": [
    "# 🏥 Ejercicio Avanzado: Pilas y Colas\n",
    "\n",
    "Vamos a simular la atención de pacientes en un centro médico usando **listas como pilas y colas**.\n",
    "\n",
    "### Escenario:\n",
    "- **Urgencias** se atienden como una **pila** (LIFO).\n",
    "- **Consultas generales** se atienden como una **cola** (FIFO).\n",
    "\n",
    "Vamos a registrar pacientes, mostrar el orden de atención y luego simular la atención de cada uno."
   ]
  },
  {
   "cell_type": "markdown",
   "id": "3f0275da",
   "metadata": {},
   "source": [
    "## Paso 1: Registro de pacientes"
   ]
  },
  {
   "cell_type": "code",
   "execution_count": 1,
   "id": "5db913c9",
   "metadata": {},
   "outputs": [
    {
     "name": "stdout",
     "output_type": "stream",
     "text": [
      "Urgencias (pila): ['Paciente U1', 'Paciente U2', 'Paciente U3']\n",
      "Consultas (cola): ['Paciente C1', 'Paciente C2', 'Paciente C3']\n"
     ]
    }
   ],
   "source": [
    "# Pacientes registrados (ejemplo inicial, se puede modificar)\n",
    "pila_urgencias = []  # Pila para urgencias\n",
    "cola_consultas = []  # Cola para consultas generales\n",
    "\n",
    "# Agregamos pacientes a cada lista\n",
    "pila_urgencias.append(\"Paciente U1\")\n",
    "pila_urgencias.append(\"Paciente U2\")\n",
    "pila_urgencias.append(\"Paciente U3\")\n",
    "\n",
    "cola_consultas.append(\"Paciente C1\")\n",
    "cola_consultas.append(\"Paciente C2\")\n",
    "cola_consultas.append(\"Paciente C3\")\n",
    "\n",
    "print(\"Urgencias (pila):\", pila_urgencias)\n",
    "print(\"Consultas (cola):\", cola_consultas)"
   ]
  },
  {
   "cell_type": "markdown",
   "id": "575b8ec3",
   "metadata": {},
   "source": [
    "## Paso 2: Atención en Urgencias (LIFO)"
   ]
  },
  {
   "cell_type": "code",
   "execution_count": 2,
   "id": "62088879",
   "metadata": {},
   "outputs": [
    {
     "name": "stdout",
     "output_type": "stream",
     "text": [
      "🔴 Atención en Urgencias:\n",
      "Atendiendo a Paciente U3\n",
      "Atendiendo a Paciente U2\n",
      "Atendiendo a Paciente U1\n"
     ]
    }
   ],
   "source": [
    "print(\"🔴 Atención en Urgencias:\")\n",
    "while pila_urgencias:\n",
    "    paciente = pila_urgencias.pop()\n",
    "    print(f\"Atendiendo a {paciente}\")"
   ]
  },
  {
   "cell_type": "markdown",
   "id": "d3489b76",
   "metadata": {},
   "source": [
    "## Paso 3: Atención en Consultas Generales (FIFO)"
   ]
  },
  {
   "cell_type": "code",
   "execution_count": 3,
   "id": "b05340f7",
   "metadata": {},
   "outputs": [
    {
     "name": "stdout",
     "output_type": "stream",
     "text": [
      "🔵 Atención en Consultas Generales:\n",
      "Atendiendo a Paciente C1\n",
      "Atendiendo a Paciente C2\n",
      "Atendiendo a Paciente C3\n"
     ]
    }
   ],
   "source": [
    "print(\"🔵 Atención en Consultas Generales:\")\n",
    "while cola_consultas:\n",
    "    paciente = cola_consultas.pop(0)\n",
    "    print(f\"Atendiendo a {paciente}\")"
   ]
  },
  {
   "cell_type": "markdown",
   "id": "963302a8",
   "metadata": {},
   "source": [
    "## ✅ Reflexión final\n",
    "\n",
    "- ¿Por qué usamos `.pop()` directamente en urgencias?\n",
    "- ¿Qué pasaría si usáramos `.pop()` también para consultas?\n",
    "- ¿Qué estructura se ajusta mejor para atender por orden de llegada?"
   ]
  }
 ],
 "metadata": {
  "kernelspec": {
   "display_name": "base",
   "language": "python",
   "name": "python3"
  },
  "language_info": {
   "codemirror_mode": {
    "name": "ipython",
    "version": 3
   },
   "file_extension": ".py",
   "mimetype": "text/x-python",
   "name": "python",
   "nbconvert_exporter": "python",
   "pygments_lexer": "ipython3",
   "version": "3.12.7"
  }
 },
 "nbformat": 4,
 "nbformat_minor": 5
}
