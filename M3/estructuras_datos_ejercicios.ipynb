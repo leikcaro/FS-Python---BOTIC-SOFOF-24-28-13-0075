{
 "cells": [
  {
   "cell_type": "markdown",
   "id": "b7c86c61",
   "metadata": {},
   "source": [
    "# 🧠 Ejercicios: Estructuras de Datos en Python\n",
    "Este notebook contiene ejercicios prácticos para repasar las estructuras de datos vistas en el curso."
   ]
  },
  {
   "cell_type": "markdown",
   "id": "bc5d4010",
   "metadata": {},
   "source": [
    "## 1. Listas - Manipulación Básica\n",
    "Crea una lista con los nombres de 5 frutas. Luego:\n",
    "- Agrega una fruta al final.\n",
    "- Elimina la primera fruta.\n",
    "- Inserta una nueva fruta en la segunda posición.\n",
    "- Imprime el largo de la lista resultante."
   ]
  },
  {
   "cell_type": "code",
   "execution_count": null,
   "id": "a704bb3b",
   "metadata": {},
   "outputs": [],
   "source": [
    "frutas = ['manzana', 'banana', 'cereza', 'kiwi', 'naranja']\n",
    "# Tu código aquí"
   ]
  },
  {
   "cell_type": "markdown",
   "id": "b9d09374",
   "metadata": {},
   "source": [
    "## 2. Listas - Métodos útiles\n",
    "Dada la lista de números:\n",
    "```python\n",
    "numeros = [3, 7, 2, 9, 1, 7, 3]\n",
    "```\n",
    "Realiza lo siguiente:\n",
    "- Cuenta cuántas veces aparece el número 7.\n",
    "- Ordena la lista.\n",
    "- Elimina el último número.\n",
    "- Crea una copia de la lista ordenada."
   ]
  },
  {
   "cell_type": "code",
   "execution_count": null,
   "id": "8dacaccc",
   "metadata": {},
   "outputs": [],
   "source": [
    "numeros = [3, 7, 2, 9, 1, 7, 3]\n",
    "# Tu código aquí"
   ]
  },
  {
   "cell_type": "markdown",
   "id": "c6275610",
   "metadata": {},
   "source": [
    "## 3. Tuplas\n",
    "Crea una tupla con tus 3 colores favoritos. Luego:\n",
    "- Imprime el segundo color.\n",
    "- Intenta cambiar un valor (¿qué sucede?)."
   ]
  },
  {
   "cell_type": "code",
   "execution_count": null,
   "id": "021a1108",
   "metadata": {},
   "outputs": [],
   "source": [
    "colores = ('azul', 'verde', 'rojo')\n",
    "# Tu código aquí"
   ]
  },
  {
   "cell_type": "markdown",
   "id": "2e40b491",
   "metadata": {},
   "source": [
    "## 4. Conjuntos (`set`)\n",
    "Crea dos conjuntos:\n",
    "```python\n",
    "pares = {2, 4, 6, 8}\n",
    "impares = {1, 3, 5, 7, 9}\n",
    "```\n",
    "- Une ambos conjuntos en uno solo.\n",
    "- Encuentra la intersección (¿qué valores tienen en común?).\n",
    "- Agrega el número 10 al conjunto de pares."
   ]
  },
  {
   "cell_type": "code",
   "execution_count": null,
   "id": "2e1de695",
   "metadata": {},
   "outputs": [],
   "source": [
    "pares = {2, 4, 6, 8}\n",
    "impares = {1, 3, 5, 7, 9}\n",
    "# Tu código aquí"
   ]
  },
  {
   "cell_type": "markdown",
   "id": "279b34d0",
   "metadata": {},
   "source": [
    "## 5. Diccionarios\n",
    "Crea un diccionario que represente a una persona con los siguientes datos:\n",
    "- nombre\n",
    "- edad\n",
    "- ciudad\n",
    "\n",
    "Luego:\n",
    "- Accede al nombre y muéstralo.\n",
    "- Actualiza la ciudad.\n",
    "- Agrega un nuevo campo: \"profesión\"."
   ]
  },
  {
   "cell_type": "code",
   "execution_count": null,
   "id": "fdb76a6a",
   "metadata": {},
   "outputs": [],
   "source": [
    "persona = {\n",
    "    \"nombre\": \"Laura\",\n",
    "    \"edad\": 28,\n",
    "    \"ciudad\": \"Santiago\"\n",
    "}\n",
    "# Tu código aquí"
   ]
  },
  {
   "cell_type": "markdown",
   "id": "1bdc2077",
   "metadata": {},
   "source": [
    "## 6. Desafío final\n",
    "Dado el siguiente escenario:\n",
    "\n",
    "Tienes una lista de estudiantes:\n",
    "```python\n",
    "estudiantes = ['Ana', 'Luis', 'Pedro', 'Carla', 'Marta']\n",
    "```\n",
    "Y un diccionario con sus calificaciones:\n",
    "```python\n",
    "calificaciones = {\n",
    "    'Ana': 5.7,\n",
    "    'Luis': 6.1,\n",
    "    'Pedro': 4.8,\n",
    "    'Carla': 6.3,\n",
    "    'Marta': 5.2\n",
    "}\n",
    "```\n",
    "\n",
    "Haz lo siguiente:\n",
    "- Crea una nueva lista con los nombres de los estudiantes que aprobaron (nota mayor o igual a 5.5).\n",
    "- Calcula el promedio de calificaciones de todos los estudiantes."
   ]
  },
  {
   "cell_type": "code",
   "execution_count": null,
   "id": "9b8ea059",
   "metadata": {},
   "outputs": [],
   "source": [
    "estudiantes = ['Ana', 'Luis', 'Pedro', 'Carla', 'Marta']\n",
    "calificaciones = {\n",
    "    'Ana': 5.7,\n",
    "    'Luis': 6.1,\n",
    "    'Pedro': 4.8,\n",
    "    'Carla': 6.3,\n",
    "    'Marta': 5.2\n",
    "}\n",
    "# Tu código aquí"
   ]
  }
 ],
 "metadata": {},
 "nbformat": 4,
 "nbformat_minor": 5
}