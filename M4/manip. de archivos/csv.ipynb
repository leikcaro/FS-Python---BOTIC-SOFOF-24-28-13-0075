{
 "cells": [
  {
   "cell_type": "markdown",
   "metadata": {},
   "source": [
    "# CSV"
   ]
  },
  {
   "cell_type": "code",
   "execution_count": 1,
   "metadata": {},
   "outputs": [
    {
     "name": "stdout",
     "output_type": "stream",
     "text": [
      "['Producto', 'Precio']\n",
      "['Manzana', '0.5']\n",
      "['Plátano', '0.3']\n"
     ]
    }
   ],
   "source": [
    "import csv\n",
    "\n",
    "with open('productos.csv', 'r') as archivo:\n",
    "    lector = csv.reader(archivo)\n",
    "    for fila in lector:\n",
    "        print(fila)\n"
   ]
  },
  {
   "cell_type": "code",
   "execution_count": 2,
   "metadata": {},
   "outputs": [],
   "source": [
    "datos = [['Nombre', 'Edad'], ['Cecilia', 28], ['Luis', 34]]\n",
    "\n",
    "with open('salida.csv', 'w', newline='') as archivo:\n",
    "    escritor = csv.writer(archivo)\n",
    "    escritor.writerows(datos)\n"
   ]
  },
  {
   "cell_type": "code",
   "execution_count": 44,
   "metadata": {},
   "outputs": [
    {
     "name": "stdout",
     "output_type": "stream",
     "text": [
      "['Nombre', 'Edad']\n"
     ]
    }
   ],
   "source": [
    "print(datos[0])"
   ]
  },
  {
   "cell_type": "code",
   "execution_count": 47,
   "metadata": {},
   "outputs": [
    {
     "name": "stdout",
     "output_type": "stream",
     "text": [
      "['Nombre', 'Edad']\n",
      "['Cecilia', '28']\n",
      "['Luis', '34']\n"
     ]
    }
   ],
   "source": [
    "with open('salida.csv', 'r') as archivo:\n",
    "    lector = csv.reader(archivo)\n",
    "    for fila in lector:\n",
    "        print(fila)"
   ]
  },
  {
   "cell_type": "code",
   "execution_count": 52,
   "metadata": {},
   "outputs": [],
   "source": [
    "with open('salida2.csv', 'w', newline='') as archivo:\n",
    "    escritor = csv.writer(archivo)\n",
    "    for i in datos:\n",
    "        escritor.writerow(i)"
   ]
  },
  {
   "cell_type": "code",
   "execution_count": 53,
   "metadata": {},
   "outputs": [
    {
     "name": "stdout",
     "output_type": "stream",
     "text": [
      "Nombre: Ana, Edad: 23, Ciudad: Santiago\n",
      "Nombre: Carlos, Edad: 30, Ciudad: Valparaíso\n",
      "Nombre: Bárbara, Edad: 27, Ciudad: Concepción\n"
     ]
    }
   ],
   "source": [
    "# Lectura del archivo con encabezados y delimitador ';'\n",
    "with open('punto_coma.csv', mode='r', newline='') as file:\n",
    "    reader = csv.DictReader(file, delimiter=';') # El delimiter va en el DictReader para que entienda que se separan los elementos con ;\n",
    "    for row in reader:\n",
    "        print(f\"Nombre: {row['nombre']}, Edad: {row['edad']}, Ciudad: {row['ciudad']}\")\n",
    "\n",
    "# Datos para escribir en un nuevo archivo CSV\n",
    "nuevos_datos = [\n",
    "    {'nombre': 'Daniel', 'edad': 35, 'ciudad': 'La Serena'},\n",
    "    {'nombre': 'Eva', 'edad': 28, 'ciudad': 'Antofagasta'}\n",
    "]\n",
    "\n",
    "# Escritura de un nuevo archivo con encabezados y delimitador ';'\n",
    "with open('nuevos_datos.csv', mode='w', newline='') as file:\n",
    "    fieldnames = ['nombre', 'edad', 'ciudad']\n",
    "    writer = csv.DictWriter(file, fieldnames=fieldnames, delimiter=';') # Acá, el delimieter implica que se vayan separando los elementos con ;\n",
    "    \n",
    "\n",
    "    # Escribir encabezado\n",
    "    writer.writeheader()\n",
    "\n",
    "    # Escribir filas\n",
    "    writer.writerows(nuevos_datos)"
   ]
  },
  {
   "cell_type": "code",
   "execution_count": 4,
   "metadata": {},
   "outputs": [
    {
     "name": "stdout",
     "output_type": "stream",
     "text": [
      "['Nombre', 'Edad']\n",
      "['Irina', '28']\n",
      "['Luis', '34']\n"
     ]
    }
   ],
   "source": [
    "# Recordar que es buena práctica abrir archivos con try\n",
    "\n",
    "try:\n",
    "    with open('salida.csv', 'r') as archivo:\n",
    "        lector = csv.reader(archivo)\n",
    "        for fila in lector:\n",
    "            print(fila)\n",
    "except FileNotFoundError:\n",
    "    print(\"El archivo no existe.\")\n",
    "    \n",
    "except PermissionError:\n",
    "    print(\"No tiene permiso para abrir este archivo.\")"
   ]
  },
  {
   "cell_type": "code",
   "execution_count": 55,
   "metadata": {},
   "outputs": [],
   "source": [
    "# Escritura con excepciones\n",
    "\n",
    "datos = [['Producto', 'Precio'], ['Manzana', 0.5], ['Plátano', 0.3]]\n",
    "\n",
    "try:\n",
    "    with open('productos.csv', 'w', newline='') as archivo: # qué pasa si cambiamos w a 'a'\n",
    "        escritor = csv.writer(archivo)\n",
    "        escritor.writerows(datos)\n",
    "except Exception as e:\n",
    "    print(f\"Ocurrió un error: {e}\")"
   ]
  },
  {
   "cell_type": "markdown",
   "metadata": {},
   "source": [
    "# OS"
   ]
  },
  {
   "cell_type": "code",
   "execution_count": 1,
   "metadata": {},
   "outputs": [
    {
     "ename": "FileNotFoundError",
     "evalue": "[WinError 2] El sistema no puede encontrar el archivo especificado: 'filename.txt' -> 'new_filename.txt'",
     "output_type": "error",
     "traceback": [
      "\u001b[1;31m---------------------------------------------------------------------------\u001b[0m",
      "\u001b[1;31mFileNotFoundError\u001b[0m                         Traceback (most recent call last)",
      "Cell \u001b[1;32mIn[1], line 2\u001b[0m\n\u001b[0;32m      1\u001b[0m \u001b[38;5;28;01mimport\u001b[39;00m \u001b[38;5;21;01mos\u001b[39;00m\n\u001b[1;32m----> 2\u001b[0m os\u001b[38;5;241m.\u001b[39mrename(\u001b[38;5;124m'\u001b[39m\u001b[38;5;124mfilename.txt\u001b[39m\u001b[38;5;124m'\u001b[39m, \u001b[38;5;124m'\u001b[39m\u001b[38;5;124mnew_filename.txt\u001b[39m\u001b[38;5;124m'\u001b[39m)\n",
      "\u001b[1;31mFileNotFoundError\u001b[0m: [WinError 2] El sistema no puede encontrar el archivo especificado: 'filename.txt' -> 'new_filename.txt'"
     ]
    }
   ],
   "source": [
    "import os\n",
    "os.rename('filename.txt', 'new_filename.txt')"
   ]
  },
  {
   "cell_type": "code",
   "execution_count": 2,
   "metadata": {},
   "outputs": [
    {
     "data": {
      "text/plain": [
       "'/path/to/dir\\\\filename.txt'"
      ]
     },
     "execution_count": 2,
     "metadata": {},
     "output_type": "execute_result"
    }
   ],
   "source": [
    "dir = '/path/to/dir'\n",
    "\n",
    "os.path.join(dir, 'filename.txt') #por qué pasó eso?\n"
   ]
  },
  {
   "cell_type": "code",
   "execution_count": 3,
   "metadata": {},
   "outputs": [
    {
     "data": {
      "text/plain": [
       "'c:\\\\Users\\\\leikc\\\\Desktop\\\\FS Python 075\\\\M4\\\\manip. de archivos'"
      ]
     },
     "execution_count": 3,
     "metadata": {},
     "output_type": "execute_result"
    }
   ],
   "source": [
    "os.getcwd()"
   ]
  },
  {
   "cell_type": "code",
   "execution_count": 57,
   "metadata": {},
   "outputs": [
    {
     "data": {
      "text/plain": [
       "'c:\\\\Users\\\\leikc\\\\Desktop\\\\Clases Edutecno\\\\Módulo 4\\\\sesion 9\\\\filename.txt'"
      ]
     },
     "execution_count": 57,
     "metadata": {},
     "output_type": "execute_result"
    }
   ],
   "source": [
    "dir = '\\\\path\\\\to\\\\dir'\n",
    "\n",
    "os.path.join(os.getcwd(), 'filename.txt')"
   ]
  },
  {
   "cell_type": "code",
   "execution_count": 58,
   "metadata": {},
   "outputs": [
    {
     "name": "stdout",
     "output_type": "stream",
     "text": [
      "Contenido del directorio actual:\n",
      "csv.ipynb\n",
      "CSV.pptx\n",
      "desktop.ini\n",
      "nuevos_datos.csv\n",
      "productos.csv\n",
      "punto_coma.csv\n",
      "salida.csv\n",
      "salida2.csv\n",
      "ventas.csv\n",
      "ventas_totales_por_producto.csv\n",
      "~$CSV.pptx\n"
     ]
    }
   ],
   "source": [
    "import os\n",
    "\n",
    "# Obtener la lista de archivos y directorios en el directorio actual\n",
    "contenido = os.listdir()\n",
    "\n",
    "print(\"Contenido del directorio actual:\")\n",
    "# Mostrar cada elemento en una nueva línea\n",
    "for elemento in contenido:\n",
    "    print(elemento)\n"
   ]
  },
  {
   "cell_type": "code",
   "execution_count": 59,
   "metadata": {},
   "outputs": [
    {
     "name": "stdout",
     "output_type": "stream",
     "text": [
      "['csv.ipynb', 'CSV.pptx', 'desktop.ini', 'nuevos_datos.csv', 'productos.csv', 'punto_coma.csv', 'salida.csv', 'salida2.csv', 'ventas.csv', 'ventas_totales_por_producto.csv', '~$CSV.pptx']\n"
     ]
    }
   ],
   "source": [
    "print(os.listdir()) #entrega el resultado como lista"
   ]
  },
  {
   "cell_type": "code",
   "execution_count": 4,
   "metadata": {},
   "outputs": [
    {
     "name": "stdout",
     "output_type": "stream",
     "text": [
      "Directorio 'prueba_os' creado.\n",
      "El directorio 'prueba_os' existe.\n",
      "Directorio 'prueba_os' eliminado.\n",
      "El directorio 'prueba_os' ya no existe.\n"
     ]
    }
   ],
   "source": [
    "import os\n",
    "\n",
    "# Nombre del directorio a crear\n",
    "nombre_directorio = 'prueba_os'\n",
    "\n",
    "# Crear el directorio\n",
    "os.mkdir(nombre_directorio)\n",
    "print(f\"Directorio '{nombre_directorio}' creado.\")\n",
    "\n",
    "# Verificar si el directorio existe\n",
    "if os.path.exists(nombre_directorio):\n",
    "    print(f\"El directorio '{nombre_directorio}' existe.\")\n",
    "\n",
    "# Eliminar el directorio\n",
    "os.rmdir(nombre_directorio)\n",
    "print(f\"Directorio '{nombre_directorio}' eliminado.\")\n",
    "\n",
    "# Verificar si el directorio aún existe\n",
    "if not os.path.exists(nombre_directorio):\n",
    "    print(f\"El directorio '{nombre_directorio}' ya no existe.\")\n"
   ]
  },
  {
   "cell_type": "markdown",
   "metadata": {},
   "source": [
    "# Pandas "
   ]
  },
  {
   "cell_type": "code",
   "execution_count": 5,
   "metadata": {},
   "outputs": [],
   "source": [
    "import pandas as pd\n",
    "\n",
    "df = pd.read_csv('ventas.csv', sep=\",\")"
   ]
  },
  {
   "cell_type": "code",
   "execution_count": 6,
   "metadata": {},
   "outputs": [
    {
     "data": {
      "text/html": [
       "<div>\n",
       "<style scoped>\n",
       "    .dataframe tbody tr th:only-of-type {\n",
       "        vertical-align: middle;\n",
       "    }\n",
       "\n",
       "    .dataframe tbody tr th {\n",
       "        vertical-align: top;\n",
       "    }\n",
       "\n",
       "    .dataframe thead th {\n",
       "        text-align: right;\n",
       "    }\n",
       "</style>\n",
       "<table border=\"1\" class=\"dataframe\">\n",
       "  <thead>\n",
       "    <tr style=\"text-align: right;\">\n",
       "      <th></th>\n",
       "      <th>Producto</th>\n",
       "      <th>Ventas</th>\n",
       "    </tr>\n",
       "  </thead>\n",
       "  <tbody>\n",
       "    <tr>\n",
       "      <th>0</th>\n",
       "      <td>A</td>\n",
       "      <td>100.0</td>\n",
       "    </tr>\n",
       "    <tr>\n",
       "      <th>1</th>\n",
       "      <td>B</td>\n",
       "      <td>200.0</td>\n",
       "    </tr>\n",
       "    <tr>\n",
       "      <th>2</th>\n",
       "      <td>A</td>\n",
       "      <td>150.0</td>\n",
       "    </tr>\n",
       "    <tr>\n",
       "      <th>3</th>\n",
       "      <td>C</td>\n",
       "      <td>300.0</td>\n",
       "    </tr>\n",
       "    <tr>\n",
       "      <th>4</th>\n",
       "      <td>B</td>\n",
       "      <td>NaN</td>\n",
       "    </tr>\n",
       "    <tr>\n",
       "      <th>5</th>\n",
       "      <td>C</td>\n",
       "      <td>250.0</td>\n",
       "    </tr>\n",
       "    <tr>\n",
       "      <th>6</th>\n",
       "      <td>A</td>\n",
       "      <td>80.0</td>\n",
       "    </tr>\n",
       "    <tr>\n",
       "      <th>7</th>\n",
       "      <td>B</td>\n",
       "      <td>114.0</td>\n",
       "    </tr>\n",
       "    <tr>\n",
       "      <th>8</th>\n",
       "      <td>C</td>\n",
       "      <td>25.0</td>\n",
       "    </tr>\n",
       "    <tr>\n",
       "      <th>9</th>\n",
       "      <td>C</td>\n",
       "      <td>17.0</td>\n",
       "    </tr>\n",
       "    <tr>\n",
       "      <th>10</th>\n",
       "      <td>B</td>\n",
       "      <td>33.0</td>\n",
       "    </tr>\n",
       "    <tr>\n",
       "      <th>11</th>\n",
       "      <td>B</td>\n",
       "      <td>34.0</td>\n",
       "    </tr>\n",
       "    <tr>\n",
       "      <th>12</th>\n",
       "      <td>A</td>\n",
       "      <td>45.0</td>\n",
       "    </tr>\n",
       "  </tbody>\n",
       "</table>\n",
       "</div>"
      ],
      "text/plain": [
       "   Producto  Ventas\n",
       "0         A   100.0\n",
       "1         B   200.0\n",
       "2         A   150.0\n",
       "3         C   300.0\n",
       "4         B     NaN\n",
       "5         C   250.0\n",
       "6         A    80.0\n",
       "7         B   114.0\n",
       "8         C    25.0\n",
       "9         C    17.0\n",
       "10        B    33.0\n",
       "11        B    34.0\n",
       "12        A    45.0"
      ]
     },
     "execution_count": 6,
     "metadata": {},
     "output_type": "execute_result"
    }
   ],
   "source": [
    "df"
   ]
  },
  {
   "cell_type": "code",
   "execution_count": null,
   "metadata": {},
   "outputs": [
    {
     "data": {
      "text/html": [
       "<div>\n",
       "<style scoped>\n",
       "    .dataframe tbody tr th:only-of-type {\n",
       "        vertical-align: middle;\n",
       "    }\n",
       "\n",
       "    .dataframe tbody tr th {\n",
       "        vertical-align: top;\n",
       "    }\n",
       "\n",
       "    .dataframe thead th {\n",
       "        text-align: right;\n",
       "    }\n",
       "</style>\n",
       "<table border=\"1\" class=\"dataframe\">\n",
       "  <thead>\n",
       "    <tr style=\"text-align: right;\">\n",
       "      <th></th>\n",
       "      <th>Producto</th>\n",
       "      <th>Ventas</th>\n",
       "    </tr>\n",
       "  </thead>\n",
       "  <tbody>\n",
       "    <tr>\n",
       "      <th>0</th>\n",
       "      <td>A</td>\n",
       "      <td>100.0</td>\n",
       "    </tr>\n",
       "    <tr>\n",
       "      <th>1</th>\n",
       "      <td>B</td>\n",
       "      <td>200.0</td>\n",
       "    </tr>\n",
       "  </tbody>\n",
       "</table>\n",
       "</div>"
      ],
      "text/plain": [
       "  Producto  Ventas\n",
       "0        A   100.0\n",
       "1        B   200.0"
      ]
     },
     "execution_count": 9,
     "metadata": {},
     "output_type": "execute_result"
    }
   ],
   "source": [
    "df.head(2)"
   ]
  },
  {
   "cell_type": "code",
   "execution_count": 10,
   "metadata": {},
   "outputs": [
    {
     "data": {
      "text/html": [
       "<div>\n",
       "<style scoped>\n",
       "    .dataframe tbody tr th:only-of-type {\n",
       "        vertical-align: middle;\n",
       "    }\n",
       "\n",
       "    .dataframe tbody tr th {\n",
       "        vertical-align: top;\n",
       "    }\n",
       "\n",
       "    .dataframe thead th {\n",
       "        text-align: right;\n",
       "    }\n",
       "</style>\n",
       "<table border=\"1\" class=\"dataframe\">\n",
       "  <thead>\n",
       "    <tr style=\"text-align: right;\">\n",
       "      <th></th>\n",
       "      <th>Producto</th>\n",
       "      <th>Ventas</th>\n",
       "    </tr>\n",
       "  </thead>\n",
       "  <tbody>\n",
       "    <tr>\n",
       "      <th>10</th>\n",
       "      <td>B</td>\n",
       "      <td>33.0</td>\n",
       "    </tr>\n",
       "    <tr>\n",
       "      <th>11</th>\n",
       "      <td>B</td>\n",
       "      <td>34.0</td>\n",
       "    </tr>\n",
       "    <tr>\n",
       "      <th>12</th>\n",
       "      <td>A</td>\n",
       "      <td>45.0</td>\n",
       "    </tr>\n",
       "  </tbody>\n",
       "</table>\n",
       "</div>"
      ],
      "text/plain": [
       "   Producto  Ventas\n",
       "10        B    33.0\n",
       "11        B    34.0\n",
       "12        A    45.0"
      ]
     },
     "execution_count": 10,
     "metadata": {},
     "output_type": "execute_result"
    }
   ],
   "source": [
    "df.tail(3)"
   ]
  },
  {
   "cell_type": "code",
   "execution_count": 11,
   "metadata": {},
   "outputs": [
    {
     "name": "stdout",
     "output_type": "stream",
     "text": [
      "<class 'pandas.core.frame.DataFrame'>\n",
      "RangeIndex: 13 entries, 0 to 12\n",
      "Data columns (total 2 columns):\n",
      " #   Column    Non-Null Count  Dtype  \n",
      "---  ------    --------------  -----  \n",
      " 0   Producto  13 non-null     object \n",
      " 1   Ventas    12 non-null     float64\n",
      "dtypes: float64(1), object(1)\n",
      "memory usage: 340.0+ bytes\n"
     ]
    }
   ],
   "source": [
    "df.info()"
   ]
  },
  {
   "cell_type": "code",
   "execution_count": 16,
   "metadata": {},
   "outputs": [],
   "source": [
    "df[\"Ventas\"].isnull().sum()  # Verifica si hay valores nulos en la columna \"Ventas\"\n",
    "#reemplazar los valores nulos con 0\n",
    "df[\"Ventas\"].fillna(0, inplace=True)  # Reemplaza los valores nulos con 0 en la columna \"Ventas\""
   ]
  },
  {
   "cell_type": "code",
   "execution_count": 17,
   "metadata": {},
   "outputs": [
    {
     "data": {
      "text/plain": [
       "0"
      ]
     },
     "execution_count": 17,
     "metadata": {},
     "output_type": "execute_result"
    }
   ],
   "source": [
    "df[\"Ventas\"].isnull().sum()"
   ]
  },
  {
   "cell_type": "code",
   "execution_count": 82,
   "metadata": {},
   "outputs": [
    {
     "data": {
      "text/plain": [
       "Index(['Producto', 'Ventas'], dtype='object')"
      ]
     },
     "execution_count": 82,
     "metadata": {},
     "output_type": "execute_result"
    }
   ],
   "source": [
    "df.columns"
   ]
  },
  {
   "cell_type": "code",
   "execution_count": null,
   "metadata": {},
   "outputs": [],
   "source": [
    "#df.to_csv('nuevos.csv', index=False)"
   ]
  },
  {
   "cell_type": "code",
   "execution_count": 18,
   "metadata": {},
   "outputs": [
    {
     "name": "stdout",
     "output_type": "stream",
     "text": [
      "DataFrame\n",
      "  Nombre  Edad      Ciudad\n",
      "0   José    28    Santiago\n",
      "1   Luis    34      Temuco\n",
      "2   Vale    29    Valdivia\n",
      "3   Juan    42  Pto. Montt\n"
     ]
    }
   ],
   "source": [
    "# crear un dataframe a partir de un diccionario\n",
    "datos = {\n",
    "    'Nombre': ['José', 'Luis', 'Vale', 'Juan'],\n",
    "    'Edad': [28, 34, 29, 42],\n",
    "    'Ciudad': ['Santiago', 'Temuco', 'Valdivia', 'Pto. Montt']\n",
    "}\n",
    "\n",
    "df = pd.DataFrame(datos)\n",
    "\n",
    "# Mostrar el DataFrame completo\n",
    "print(\"DataFrame\")\n",
    "print(df)\n",
    "\n",
    "\n"
   ]
  },
  {
   "cell_type": "code",
   "execution_count": 19,
   "metadata": {},
   "outputs": [
    {
     "name": "stdout",
     "output_type": "stream",
     "text": [
      "\n",
      "Columna 'Nombre':\n",
      "0    José\n",
      "1    Luis\n",
      "2    Vale\n",
      "3    Juan\n",
      "Name: Nombre, dtype: object\n"
     ]
    }
   ],
   "source": [
    "# Seleccionar la columna 'Nombre'\n",
    "print(\"\\nColumna 'Nombre':\")\n",
    "print(df['Nombre'])\n",
    "\n"
   ]
  },
  {
   "cell_type": "code",
   "execution_count": 20,
   "metadata": {},
   "outputs": [
    {
     "name": "stdout",
     "output_type": "stream",
     "text": [
      "\n",
      "Personas con edad mayor a 30:\n",
      "  Nombre  Edad      Ciudad\n",
      "1   Luis    34      Temuco\n",
      "3   Juan    42  Pto. Montt\n"
     ]
    }
   ],
   "source": [
    "# Filtrar filas donde la edad es mayor de 30\n",
    "filtro= df['Edad'] > 30\n",
    "\n",
    "mayores_de_30 = df[filtro]\n",
    "\n",
    "print(\"\\nPersonas con edad mayor a 30:\")\n",
    "print(mayores_de_30)"
   ]
  },
  {
   "cell_type": "code",
   "execution_count": 21,
   "metadata": {},
   "outputs": [
    {
     "name": "stdout",
     "output_type": "stream",
     "text": [
      "Primeras 5 filas del DataFrame:\n",
      "  Producto  Ventas\n",
      "0        A   100.0\n",
      "1        B   200.0\n",
      "2        A   150.0\n",
      "3        C   300.0\n",
      "4        B     NaN\n"
     ]
    }
   ],
   "source": [
    "# Leer datos desde un archivo CSV\n",
    "df = pd.read_csv('ventas.csv')\n",
    "\n",
    "# Ver las primeras 5 filas del DataFrame\n",
    "print(\"Primeras 5 filas del DataFrame:\")\n",
    "print(df.head())\n",
    "\n",
    "\n"
   ]
  },
  {
   "cell_type": "code",
   "execution_count": 22,
   "metadata": {},
   "outputs": [],
   "source": [
    "# Eliminar filas con datos faltantes\n",
    "df_limpio = df.dropna()\n",
    "\n",
    "# Calcular la venta total por producto (si les interesa pueden investigar de GroupBy)\n",
    "ventas_por_producto = df_limpio.groupby('Producto')['Ventas'].sum()\n",
    "\n"
   ]
  },
  {
   "cell_type": "code",
   "execution_count": 23,
   "metadata": {},
   "outputs": [
    {
     "name": "stdout",
     "output_type": "stream",
     "text": [
      "\n",
      "Ventas totales por producto:\n",
      "Producto\n",
      "A    375.0\n",
      "B    381.0\n",
      "C    592.0\n",
      "Name: Ventas, dtype: float64\n"
     ]
    }
   ],
   "source": [
    "# Mostrar las ventas totales por producto\n",
    "print(\"\\nVentas totales por producto:\")\n",
    "print(ventas_por_producto)\n",
    "\n"
   ]
  },
  {
   "cell_type": "code",
   "execution_count": 79,
   "metadata": {},
   "outputs": [],
   "source": [
    "# Exportar el resultado a un nuevo archivo CSV\n",
    "ventas_por_producto.to_csv('ventas_totales_por_producto.csv')"
   ]
  },
  {
   "cell_type": "code",
   "execution_count": 6,
   "metadata": {},
   "outputs": [
    {
     "data": {
      "text/plain": [
       "<AxesSubplot: xlabel='Producto'>"
      ]
     },
     "execution_count": 6,
     "metadata": {},
     "output_type": "execute_result"
    },
    {
     "data": {
      "image/png": "[encoded data removed]",
      "text/plain": [
       "<Figure size 640x480 with 1 Axes>"
      ]
     },
     "metadata": {},
     "output_type": "display_data"
    }
   ],
   "source": [
    "#imprimir un grafico de barras para ventas por producto\n",
    "ventas_por_producto.plot(kind='bar')"
   ]
  },
  {
   "cell_type": "code",
   "execution_count": 80,
   "metadata": {},
   "outputs": [
    {
     "data": {
      "text/plain": [
       "count      3.000000\n",
       "mean     449.333333\n",
       "std      123.589374\n",
       "min      375.000000\n",
       "25%      378.000000\n",
       "50%      381.000000\n",
       "75%      486.500000\n",
       "max      592.000000\n",
       "Name: Ventas, dtype: float64"
      ]
     },
     "execution_count": 80,
     "metadata": {},
     "output_type": "execute_result"
    }
   ],
   "source": [
    "ventas_por_producto.describe()"
   ]
  },
  {
   "cell_type": "code",
   "execution_count": 70,
   "metadata": {},
   "outputs": [
    {
     "data": {
      "text/plain": [
       "375.0    1\n",
       "381.0    1\n",
       "592.0    1\n",
       "Name: Ventas, dtype: int64"
      ]
     },
     "execution_count": 70,
     "metadata": {},
     "output_type": "execute_result"
    }
   ],
   "source": [
    "ventas_por_producto.value_counts()"
   ]
  },
  {
   "cell_type": "markdown",
   "metadata": {},
   "source": [
    "# Ejercicio:\n",
    "\n",
    "Revisa los comandos anteriores pero con el archivo 'ventas.csv'\n",
    "\n",
    "investiga otros comandos interesantes  en la documentacion de pandas\n",
    "\n",
    "¿como podriamos crear un grafico de torta?"
   ]
  },
  {
   "cell_type": "code",
   "execution_count": null,
   "metadata": {},
   "outputs": [],
   "source": []
  }
 ],
 "metadata": {
  "kernelspec": {
   "display_name": "base",
   "language": "python",
   "name": "python3"
  },
  "language_info": {
   "codemirror_mode": {
    "name": "ipython",
    "version": 3
   },
   "file_extension": ".py",
   "mimetype": "text/x-python",
   "name": "python",
   "nbconvert_exporter": "python",
   "pygments_lexer": "ipython3",
   "version": "3.12.7"
  }
 },
 "nbformat": 4,
 "nbformat_minor": 2
}
