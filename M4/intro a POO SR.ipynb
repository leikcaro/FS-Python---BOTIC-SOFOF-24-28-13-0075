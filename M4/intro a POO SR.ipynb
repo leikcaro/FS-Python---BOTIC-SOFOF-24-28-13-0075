{
 "cells": [
  {
   "cell_type": "markdown",
   "metadata": {},
   "source": [
    "Intro a la POO"
   ]
  },
  {
   "cell_type": "code",
   "execution_count": 1,
   "metadata": {},
   "outputs": [],
   "source": [
    "class MiClase:\n",
    "    # Definición de la clase\n",
    "    pass\n",
    "\n",
    "objeto = MiClase()\n"
   ]
  },
  {
   "cell_type": "code",
   "execution_count": 7,
   "metadata": {},
   "outputs": [],
   "source": [
    "class Perro:\n",
    "    def __init__(self, nombre, edad=1):\n",
    "        self.nombre = nombre  # Atributo de instancia\n",
    "        self.edad = edad\n",
    "\n",
    "    def ladrar(self):  # Método\n",
    "        print(f\"{self.nombre} está ladrando\")\n",
    "\n"
   ]
  },
  {
   "cell_type": "code",
   "execution_count": null,
   "metadata": {},
   "outputs": [],
   "source": [
    "perro_chihuahua= Perro(\"Firulais\", 5)"
   ]
  },
  {
   "cell_type": "code",
   "execution_count": 11,
   "metadata": {},
   "outputs": [
    {
     "name": "stdout",
     "output_type": "stream",
     "text": [
      "Firulais está ladrando\n"
     ]
    }
   ],
   "source": [
    "perro_chihuahua.ladrar()"
   ]
  },
  {
   "cell_type": "code",
   "execution_count": 5,
   "metadata": {},
   "outputs": [
    {
     "name": "stdout",
     "output_type": "stream",
     "text": [
      "El perro chihuahua se llama Destructor y tiene 5 años\n"
     ]
    }
   ],
   "source": [
    "perro_chihuahua= Perro(\"Destructor\", 5)\n",
    "\n",
    "print(f\"El perro chihuahua se llama {perro_chihuahua.nombre} y tiene {perro_chihuahua.edad} años\")"
   ]
  },
  {
   "cell_type": "code",
   "execution_count": 7,
   "metadata": {},
   "outputs": [
    {
     "name": "stdout",
     "output_type": "stream",
     "text": [
      "Destructor está ladrando\n"
     ]
    }
   ],
   "source": [
    "perro_chihuahua.ladrar()"
   ]
  },
  {
   "cell_type": "code",
   "execution_count": 7,
   "metadata": {},
   "outputs": [
    {
     "name": "stdout",
     "output_type": "stream",
     "text": [
      "V16 Ex-Saloon\n"
     ]
    }
   ],
   "source": [
    "class Auto:\n",
    "    \n",
    "    def __init__(self, marca, modelo, año):\n",
    "        self.marca = marca\n",
    "        self.modelo = modelo\n",
    "        self.año = año\n",
    "        \n",
    "    placa_patente=\"XXXX\"\n",
    "    \n",
    "    def mostrar_informacion(self):\n",
    "        return f\"Auto: {self.marca} {self.modelo}, Año: {self.año}\"\n",
    "\n",
    "# Crear un objeto de la clase Auto\n",
    "mi_Auto = Auto(\"Nissan\", \"V16 Ex-Saloon\", 1990)\n",
    "\n",
    "# Usar el método para mostrar la información del Auto\n",
    "print(mi_Auto.modelo)\n"
   ]
  },
  {
   "cell_type": "markdown",
   "metadata": {},
   "source": [
    "La clase Auto tiene un constructor __init__ que recibe tres parámetros: marca, modelo, y año.\n",
    "Al crear un objeto de la clase Auto con los datos \"Nissan\", \"V16 Ex-Saloon\", y 1990, esos valores se asignan automáticamente a los atributos del objeto.\n",
    "El método mostrar_informacion permite imprimir los atributos del objeto en formato legible."
   ]
  },
  {
   "cell_type": "markdown",
   "metadata": {},
   "source": [
    "# Ej: Libro\n",
    "\n",
    "Crea una clase llamada Libro que tenga un constructor \"__init__\" para inicializar los atributos titulo, autor, y anio_publicacion. La clase también debe tener un método llamado informacion_libro que retorne un string con los detalles del libro."
   ]
  },
  {
   "cell_type": "code",
   "execution_count": null,
   "metadata": {},
   "outputs": [],
   "source": [
    "class Libro:\n",
    "    def __init__(self, titulo, autor, anio_publicacion):\n",
    "        # Inicializa los atributos aquí\n",
    "        \n",
    "    def informacion_libro(self):\n",
    "        # Retorna la información del libro en el formato solicitado\n",
    "\n",
    "# Crear un objeto de la clase Libro y mostrar su información\n"
   ]
  },
  {
   "cell_type": "code",
   "execution_count": 10,
   "metadata": {},
   "outputs": [
    {
     "name": "stdout",
     "output_type": "stream",
     "text": [
      "El libro '1984' fue escrito por George Orwell en el año 1949.\n"
     ]
    }
   ],
   "source": [
    "class Libro:\n",
    "    def __init__(self, titulo, autor, anio_publicacion):\n",
    "        # Inicializamos los atributos\n",
    "        self.titulo = titulo\n",
    "        self.autor = autor\n",
    "        self.anio_publicacion = anio_publicacion\n",
    "        \n",
    "    def informacion_libro(self):\n",
    "        # Retornamos la información en el formato solicitado\n",
    "        return f\"El libro '{self.titulo}' fue escrito por {self.autor} en el año {self.anio_publicacion}.\"\n",
    "\n",
    "# Crear un objeto de la clase Libro\n",
    "mi_libro = Libro(\"1984\", \"George Orwell\", 1949)\n",
    "\n",
    "# Mostrar la información del libro usando el método informacion_libro\n",
    "print(mi_libro.informacion_libro())\n"
   ]
  },
  {
   "cell_type": "markdown",
   "metadata": {},
   "source": [
    "Se ha creado la clase Libro con los atributos titulo, autor, y anio_publicacion.\n",
    "\n",
    "El método informacion_libro retorna un string con los datos del libro en el formato requerido.\n",
    "\n",
    "Luego se crea un objeto mi_libro con los valores \"1984\", \"George Orwell\", y 1949, y se llama al método informacion_libro() para mostrar la información."
   ]
  },
  {
   "cell_type": "markdown",
   "metadata": {},
   "source": []
  }
 ],
 "metadata": {
  "kernelspec": {
   "display_name": "base",
   "language": "python",
   "name": "python3"
  },
  "language_info": {
   "codemirror_mode": {
    "name": "ipython",
    "version": 3
   },
   "file_extension": ".py",
   "mimetype": "text/x-python",
   "name": "python",
   "nbconvert_exporter": "python",
   "pygments_lexer": "ipython3",
   "version": "3.12.7"
  }
 },
 "nbformat": 4,
 "nbformat_minor": 2
}
