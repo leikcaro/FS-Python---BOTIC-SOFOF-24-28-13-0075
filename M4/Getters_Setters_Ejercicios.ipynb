{
 "cells": [
  {
   "cell_type": "markdown",
   "id": "6400bc2b",
   "metadata": {},
   "source": [
    "\n",
    "# Getters, Setters y `@property` en Python — Notebook de Ejercicios\n",
    "\n"
   ]
  },
  {
   "cell_type": "markdown",
   "id": "3887a2a5",
   "metadata": {},
   "source": [
    "\n",
    "## 1) Repaso rápido de conceptos\n",
    "\n",
    "- **Encapsulamiento:** control del acceso a los datos internos del objeto.\n",
    "- **Convenciones:** `_atributo` (uso interno) y `__atributo` (name mangling: `_Clase__atributo`).\n",
    "- **Getters/Setters tradicionales:** métodos `get_...()` y `set_...()`; funcionan pero no son tan \"pythonic\".\n",
    "- **`@property`:** permite **leer** como atributo con lógica interna.\n",
    "- **`@atributo.setter`:** permite **asignar** con validación (antes de modificar el estado).\n"
   ]
  },
  {
   "cell_type": "markdown",
   "id": "4cdf5bd8",
   "metadata": {},
   "source": [
    "\n",
    "### Calentamiento: ejemplo mínimo con `@property`\n"
   ]
  },
  {
   "cell_type": "code",
   "execution_count": 1,
   "id": "32afed4a",
   "metadata": {},
   "outputs": [
    {
     "name": "stdout",
     "output_type": "stream",
     "text": [
      "Nombre inicial: Ana\n",
      "Nombre validado: Luis\n",
      "Error esperado: El nombre debe ser un texto no vacío.\n"
     ]
    }
   ],
   "source": [
    "# Ejemplo mínimo de @property y validation en setter\n",
    "class Persona:\n",
    "    # Almacenamos el nombre protegido (convención underscore)\n",
    "    def __init__(self, nombre):\n",
    "        self._nombre = nombre\n",
    "\n",
    "    # Getter pythonic\n",
    "    @property\n",
    "    def nombre(self):\n",
    "        return self._nombre\n",
    "\n",
    "    # Setter con validación\n",
    "    @nombre.setter\n",
    "    def nombre(self, valor):\n",
    "        if not isinstance(valor, str) or not valor.strip():\n",
    "            raise ValueError(\"El nombre debe ser un texto no vacío.\")\n",
    "        self._nombre = valor.strip()\n",
    "\n",
    "# Demostración\n",
    "p = Persona(\"Ana\")\n",
    "print(\"Nombre inicial:\", p.nombre)\n",
    "p.nombre = \"  Luis  \"\n",
    "print(\"Nombre validado:\", p.nombre)\n",
    "try:\n",
    "    p.nombre = 123  # Esto debe fallar\n",
    "except Exception as e:\n",
    "    print(\"Error esperado:\", e)"
   ]
  },
  {
   "cell_type": "markdown",
   "id": "f6cdecc5",
   "metadata": {},
   "source": [
    "\n",
    "## 2) `_` vs `__` y *name mangling*\n",
    "\n",
    "- `_atributo` comunica **\"uso interno\"** pero no bloquea el acceso.\n",
    "- `__atributo` activa *name mangling*: cambia el nombre a `_Clase__atributo` para evitar colisiones en herencia y accesos accidentales.\n",
    "\n",
    "> En Python **nada es 100% privado**, pero estas convenciones ayudan a escribir mejor código.\n"
   ]
  },
  {
   "cell_type": "code",
   "execution_count": 2,
   "id": "bf64f129",
   "metadata": {},
   "outputs": [
    {
     "name": "stdout",
     "output_type": "stream",
     "text": [
      "Saldo: 100\n",
      "Nombre real del atributo __token: ['_CuentaDemo__token']\n"
     ]
    }
   ],
   "source": [
    "# Demostración de name mangling\n",
    "class CuentaDemo:\n",
    "    def __init__(self, saldo):\n",
    "        self._saldo = saldo           # convención (interno)\n",
    "        self.__token = \"secreto123\"   # name mangling\n",
    "\n",
    "    @property\n",
    "    def saldo(self):\n",
    "        return self._saldo\n",
    "\n",
    "c = CuentaDemo(100)\n",
    "print(\"Saldo:\", c.saldo)\n",
    "\n",
    "# Acceso directo al nombre mangled (no recomendado, solo demostración):\n",
    "print(\"Nombre real del atributo __token:\", [n for n in dir(c) if 'token' in n])"
   ]
  },
  {
   "cell_type": "markdown",
   "id": "73bd42fd",
   "metadata": {},
   "source": [
    "\n",
    "## 3) Ejercicio RESUELTO : **`CuentaBancaria` con validación**\n",
    "\n",
    "**Objetivo:** practicar `@property`, validaciones y reglas simples de negocio.\n",
    "\n",
    "**Requerimientos:**\n",
    "1. Atributo protegido `_saldo` (numérico, inicia en 0 si no se especifica).\n",
    "2. Propiedad `saldo` **solo lectura** (no se puede asignar directamente).\n",
    "3. Métodos `depositar(monto)` y `retirar(monto)` con validación:\n",
    "   - `monto` debe ser `> 0`.\n",
    "   - No permitir saldo negativo en `retirar`.\n",
    "4. Propiedad `limite_retiro` **con setter** (por defecto 500.0) que valide `> 0`.\n",
    "5. Método `__repr__` amigable para imprimir el estado.\n"
   ]
  },
  {
   "cell_type": "code",
   "execution_count": null,
   "id": "fd0cd829",
   "metadata": {},
   "outputs": [],
   "source": [
    "# Implementación resuelta de CuentaBancaria\n",
    "class CuentaBancaria:\n",
    "    def __init__(self, saldo_inicial=0.0, limite_retiro=500.0):\n",
    "        if saldo_inicial < 0:\n",
    "            raise ValueError(\"El saldo inicial no puede ser negativo.\")\n",
    "        if limite_retiro <= 0:\n",
    "            raise ValueError(\"El límite de retiro debe ser > 0.\")\n",
    "        self._saldo = float(saldo_inicial)\n",
    "        self._limite_retiro = float(limite_retiro)\n",
    "\n",
    "    # saldo es de solo lectura\n",
    "    @property\n",
    "    def saldo(self):\n",
    "        return self._saldo\n",
    "\n",
    "    # limite_retiro tiene getter y setter con validación\n",
    "    @property\n",
    "    def limite_retiro(self):\n",
    "        return self._limite_retiro\n",
    "\n",
    "    @limite_retiro.setter\n",
    "    def limite_retiro(self, valor):\n",
    "        if float(valor) <= 0:\n",
    "            raise ValueError(\"El límite de retiro debe ser > 0.\")\n",
    "        self._limite_retiro = float(valor)\n",
    "\n",
    "    def depositar(self, monto: float):\n",
    "        if monto <= 0:\n",
    "            raise ValueError(\"El depósito debe ser > 0.\")\n",
    "        self._saldo += float(monto)\n",
    "        return self._saldo\n",
    "\n",
    "    def retirar(self, monto: float):\n",
    "        if monto <= 0:\n",
    "            raise ValueError(\"El retiro debe ser > 0.\")\n",
    "        if monto > self._limite_retiro:\n",
    "            raise ValueError(f\"No puedes retirar más de {self._limite_retiro} en una operación.\")\n",
    "        if self._saldo - monto < 0:\n",
    "            raise ValueError(\"Fondos insuficientes.\")\n",
    "        self._saldo -= float(monto)\n",
    "        return self._saldo\n",
    "\n",
    "    def __repr__(self):\n",
    "        return f\"CuentaBancaria(saldo={self._saldo:.2f}, limite_retiro={self._limite_retiro:.2f})\"\n",
    "\n",
    "# Demostración\n",
    "cuenta = CuentaBancaria(saldo_inicial=1000, limite_retiro=400)\n",
    "print(cuenta)\n",
    "cuenta.depositar(250)\n",
    "print(\"Luego de depositar 250:\", cuenta.saldo)\n",
    "cuenta.retirar(300)\n",
    "print(\"Luego de retirar 300:\", cuenta.saldo)\n",
    "try:\n",
    "    cuenta.retirar(450)  # debería fallar por límite\n",
    "except Exception as e:\n",
    "    print(\"Error esperado:\", e)"
   ]
  },
  {
   "cell_type": "markdown",
   "id": "78f3f91e",
   "metadata": {},
   "source": [
    "\n",
    "## 4) Ejercicio SIN resolver #1: **`Producto` con `@property` y validación**\n",
    "\n",
    "**Objetivo:** aplicar `@property` y validaciones básicas.\n",
    "\n",
    "**Requerimientos:**\n",
    "1. Clase `Producto` con atributos protegidos `_nombre` y `_precio`.\n",
    "2. `nombre` y `precio` deben ser propiedades (`@property`).  \n",
    "   - `nombre.setter`: validar texto no vacío.  \n",
    "   - `precio.setter`: validar número `> 0`.\n",
    "3. Agregar propiedad **solo lectura** `precio_con_iva` (use 19% por defecto).\n",
    "4. Método `aplicar_descuento(porcentaje)` que:\n",
    "   - valide `0 < porcentaje < 100`,\n",
    "   - actualice `_precio` reduciéndolo ese porcentaje.\n",
    "5. `__repr__` amigable.\n",
    "\n",
    "**Pruebas sugeridas (puedes descomentar cuando termines):**\n",
    "```python\n",
    "# p = Producto(\"Teclado\", 20000)\n",
    "# print(p.precio_con_iva)  # 23800.0\n",
    "# p.aplicar_descuento(10)\n",
    "# assert round(p.precio, 2) == 18000.0\n",
    "# try:\n",
    "#     p.precio = -5\n",
    "# except ValueError:\n",
    "#     print(\"OK: precio inválido\")\n",
    "```\n"
   ]
  },
  {
   "cell_type": "code",
   "execution_count": null,
   "id": "7f27c3ad",
   "metadata": {},
   "outputs": [],
   "source": [
    "# Esqueleto para que completes\n",
    "class Producto:\n",
    "    # TODO: completa la implementación según los requisitos\n",
    "    def __init__(self, nombre, precio):\n",
    "        # Tu código aquí\n",
    "        pass\n",
    "\n",
    "    # Tu código aquí: @property nombre / setter\n",
    "    # Tu código aquí: @property precio / setter\n",
    "    # Tu código aquí: @property precio_con_iva (solo lectura)\n",
    "    # Tu código aquí: aplicar_descuento(porcentaje)\n",
    "    # Tu código aquí: __repr__\n",
    "\n",
    "# Pruebas (descomenta cuando termines)\n",
    "# p = Producto(\"Teclado\", 20000)\n",
    "# print(p)\n",
    "# print(\"IVA:\", p.precio_con_iva)\n",
    "# p.aplicar_descuento(10)\n",
    "# print(\"Con descuento:\", p.precio)"
   ]
  },
  {
   "cell_type": "markdown",
   "id": "352cdfaf",
   "metadata": {},
   "source": [
    "\n",
    "## 5) Ejercicio SIN resolver #2: **`Temperatura` con propiedades encadenadas**\n",
    "\n",
    "**Objetivo:** practicar propiedades que **derivan** de otra y mantener coherencia interna.\n",
    "\n",
    "**Requerimientos:**\n",
    "1. Clase `Temperatura` con atributo protegido `_celsius`.\n",
    "2. Propiedad `celsius` con setter que valide `float` (acepta `int` o `float`).  \n",
    "3. Propiedad **derivada** `fahrenheit` (solo lectura) calculada con fórmula:  \n",
    "   \\( F = C \\times 9/5 + 32 \\)\n",
    "4. Método `desde_fahrenheit(F)` de clase (`@classmethod`) que cree una instancia a partir de Fahrenheit.\n",
    "5. `__repr__` que muestre ambos valores redondeados a 2 decimales.\n",
    "\n",
    "**Sugerencia:** usa `float(valor)` en el setter y `round(x, 2)` para mostrar.\n",
    "\n",
    "**Pruebas sugeridas:**\n",
    "```python\n",
    "# t = Temperatura(25)\n",
    "# assert round(t.fahrenheit, 2) == 77.0\n",
    "# t2 = Temperatura.desde_fahrenheit(212)\n",
    "# assert round(t2.celsius, 2) == 100.0\n",
    "```\n"
   ]
  },
  {
   "cell_type": "code",
   "execution_count": null,
   "id": "18a997cf",
   "metadata": {},
   "outputs": [],
   "source": [
    "# Esqueleto para que completes\n",
    "class Temperatura:\n",
    "    # TODO: completa la implementación\n",
    "    def __init__(self, celsius):\n",
    "        # Tu código aquí\n",
    "        pass\n",
    "\n",
    "    # Tu código aquí: @property celsius / setter con validación\n",
    "    # Tu código aquí: @property fahrenheit (solo lectura)\n",
    "    # Tu código aquí: @classmethod desde_fahrenheit\n",
    "    # Tu código aquí: __repr__\n",
    "\n",
    "# Pruebas (descomenta cuando termines)\n",
    "# t = Temperatura(25)\n",
    "# print(t)\n",
    "# print(\"F:\", t.fahrenheit)\n",
    "# t2 = Temperatura.desde_fahrenheit(212)\n",
    "# print(t2)"
   ]
  },
  {
   "cell_type": "markdown",
   "id": "bd5d4750",
   "metadata": {},
   "source": [
    "\n",
    "---\n",
    "\n",
    "### Recomendaciones finales\n",
    "- Prefiere `@property` sobre `get_*/set_*` cuando tenga sentido semántico.\n",
    "- Mantén las validaciones **simples y claras** en el setter.\n",
    "- Usa `_` y `__` con criterio: ayudan a comunicar intención y evitar errores.\n",
    "\n",
    "¡Listo! Tienes un ejemplo resuelto y dos desafíos para practicar.\n"
   ]
  }
 ],
 "metadata": {
  "kernelspec": {
   "display_name": "base",
   "language": "python",
   "name": "python3"
  },
  "language_info": {
   "codemirror_mode": {
    "name": "ipython",
    "version": 3
   },
   "file_extension": ".py",
   "mimetype": "text/x-python",
   "name": "python",
   "nbconvert_exporter": "python",
   "pygments_lexer": "ipython3",
   "version": "3.12.7"
  }
 },
 "nbformat": 4,
 "nbformat_minor": 5
}
