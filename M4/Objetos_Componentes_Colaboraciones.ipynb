{
 "cells": [
  {
   "cell_type": "markdown",
   "metadata": {},
   "source": [
    "# Programación Orientada a Objetos: Objetos, Componentes y Colaboraciones\n",
    "\n",
    "Este cuaderno explora los fundamentos de la programación orientada a objetos, con especial foco en cómo los objetos se relacionan y colaboran entre sí dentro de componentes más grandes."
   ]
  },
  {
   "cell_type": "markdown",
   "metadata": {},
   "source": [
    "## ¿Qué es un objeto?\n",
    "Un objeto es una instancia de una clase. Representa una entidad del mundo real con atributos (datos) y métodos (comportamientos)."
   ]
  },
  {
   "cell_type": "code",
   "execution_count": null,
   "metadata": {},
   "outputs": [],
   "source": [
    "class Persona:\n",
    "    def __init__(self, nombre, edad):\n",
    "        self.nombre = nombre\n",
    "        self.edad = edad\n",
    "\n",
    "    def saludar(self):\n",
    "        return f\"Hola, soy {self.nombre} y tengo {self.edad} años.\"\n",
    "\n",
    "persona1 = Persona(\"Ana\", 30)\n",
    "print(persona1.saludar())"
   ]
  },
  {
   "cell_type": "markdown",
   "metadata": {},
   "source": [
    "## Componentes\n",
    "Los componentes son conjuntos de clases que colaboran para cumplir una funcionalidad."
   ]
  },
  {
   "cell_type": "code",
   "execution_count": null,
   "metadata": {},
   "outputs": [],
   "source": [
    "class Motor:\n",
    "    def encender(self):\n",
    "        print(\"Motor encendido\")\n",
    "\n",
    "class Auto:\n",
    "    def __init__(self):\n",
    "        self.motor = Motor()\n",
    "\n",
    "    def arrancar(self):\n",
    "        self.motor.encender()\n",
    "\n",
    "auto1 = Auto()\n",
    "auto1.arrancar()"
   ]
  },
  {
   "cell_type": "markdown",
   "metadata": {},
   "source": [
    "## Colaboraciones\n",
    "Cuando un objeto utiliza a otro para completar una tarea, decimos que colaboran."
   ]
  },
  {
   "cell_type": "code",
   "execution_count": null,
   "metadata": {},
   "outputs": [],
   "source": [
    "class Producto:\n",
    "    def __init__(self, nombre, precio):\n",
    "        self.nombre = nombre\n",
    "        self.precio = precio\n",
    "\n",
    "class Pedido:\n",
    "    def __init__(self):\n",
    "        self.productos = []\n",
    "\n",
    "    def agregar_producto(self, producto):\n",
    "        self.productos.append(producto)\n",
    "\n",
    "    def calcular_total(self):\n",
    "        return sum(p.precio for p in self.productos)\n",
    "\n",
    "pedido = Pedido()\n",
    "pedido.agregar_producto(Producto(\"Pan\", 1000))\n",
    "pedido.agregar_producto(Producto(\"Queso\", 2000))\n",
    "print(\"Total del pedido:\", pedido.calcular_total())"
   ]
  },
  {
   "cell_type": "markdown",
   "id": "b404a77a",
   "metadata": {},
   "source": [
    "## ¿Qué son las dependencias entre objetos?\n",
    "\n",
    "Una dependencia se produce cuando una clase utiliza otra para realizar una tarea. Si A depende de B, significa que A necesita que B funcione correctamente.\n",
    "\n",
    "Ejemplo: Si `Pedido` necesita a `Producto` para calcular el total, entonces `Pedido` depende de `Producto`.\n"
   ]
  },
  {
   "cell_type": "markdown",
   "id": "c5ee57c6",
   "metadata": {},
   "source": [
    "## Dependencias fuertes vs. débiles\n",
    "\n",
    "- **Dependencia fuerte**: Una clase crea o controla directamente otra. Son difíciles de modificar o testear de forma independiente.\n",
    "\n",
    "- **Dependencia débil**: Una clase utiliza otra a través de interfaces o recibe el objeto ya creado. Favorece la reutilización y el mantenimiento.\n"
   ]
  },
  {
   "cell_type": "code",
   "execution_count": null,
   "id": "d8245fd0",
   "metadata": {},
   "outputs": [],
   "source": [
    "class Producto():\n",
    "    def __init__(self, nombre, precio):\n",
    "        self.nombre = nombre\n",
    "        self.precio = precio"
   ]
  },
  {
   "cell_type": "code",
   "execution_count": null,
   "id": "3288b110",
   "metadata": {},
   "outputs": [],
   "source": [
    "# Dependencia fuerte: Pedido crea el producto dentro de su método\n",
    "class PedidoFuerte:\n",
    "    def __init__(self):\n",
    "        self.productos = []\n",
    "\n",
    "    def agregar_producto(self, nombre, precio):\n",
    "        producto = Producto(nombre, precio)  # Fuerte: lo crea directamente\n",
    "        self.productos.append(producto)\n"
   ]
  },
  {
   "cell_type": "code",
   "execution_count": null,
   "id": "fa5b908d",
   "metadata": {},
   "outputs": [],
   "source": [
    "# Dependencia débil: Pedido recibe los productos ya creados\n",
    "class PedidoDebil:\n",
    "    def __init__(self):\n",
    "        self.productos = []\n",
    "\n",
    "    def agregar_producto(self, producto):  # Débil: recibe un objeto\n",
    "        self.productos.append(producto)\n"
   ]
  },
  {
   "cell_type": "markdown",
   "id": "82fdf60c",
   "metadata": {},
   "source": [
    "## ¿Qué es la delegación?\n",
    "\n",
    "La delegación ocurre cuando un objeto le pasa la responsabilidad de realizar una acción a otro objeto.\n",
    "\n",
    "Permite dividir el comportamiento entre componentes especializados.\n"
   ]
  },
  {
   "cell_type": "code",
   "execution_count": null,
   "id": "7a0f2a65",
   "metadata": {},
   "outputs": [],
   "source": [
    "class Logger:\n",
    "    def log(self, mensaje):\n",
    "        print(f\"[LOG]: {mensaje}\")\n",
    "\n",
    "class Aplicacion:\n",
    "    def __init__(self):\n",
    "        self.logger = Logger()  # Delegación\n",
    "\n",
    "    def ejecutar(self):\n",
    "        self.logger.log(\"Aplicación iniciada\")\n"
   ]
  },
  {
   "cell_type": "markdown",
   "id": "690f9684",
   "metadata": {},
   "source": [
    "## ¿Qué es el acoplamiento?\n",
    "\n",
    "El acoplamiento mide cuán dependiente es una clase de otra. Menor acoplamiento = mayor independencia.\n",
    "\n",
    "Tipos:\n",
    "- **Alto acoplamiento** = dependencias directas\n",
    "- **Bajo acoplamiento** = independencia, reutilización\n"
   ]
  },
  {
   "cell_type": "markdown",
   "id": "9bc8014c",
   "metadata": {},
   "source": [
    "## ¿Qué es la cohesión?\n",
    "\n",
    "La cohesión indica qué tan relacionadas están las responsabilidades dentro de una clase. Alta cohesión significa que una clase hace solo lo que debe hacer, y lo hace bien.\n"
   ]
  },
  {
   "cell_type": "markdown",
   "id": "3135b3e2",
   "metadata": {},
   "source": [
    "## Composición vs Herencia\n",
    "\n",
    "- **Herencia**: una clase extiende otra (relación \"es un\").\n",
    "- **Composición**: una clase contiene objetos de otras clases (relación \"tiene un\").\n",
    "\n",
    "Se recomienda preferir **composición** para mayor flexibilidad.\n"
   ]
  },
  {
   "cell_type": "code",
   "execution_count": null,
   "id": "ab186dc2",
   "metadata": {},
   "outputs": [],
   "source": [
    "class PedidoComposicion:\n",
    "    def __init__(self):\n",
    "        self.productos = []\n",
    "\n",
    "    def agregar_producto(self, producto):\n",
    "        self.productos.append(producto)"
   ]
  }
 ],
 "metadata": {
  "kernelspec": {
   "display_name": "Python 3",
   "language": "python",
   "name": "python3"
  },
  "language_info": {
   "name": "python",
   "version": "3.11"
  }
 },
 "nbformat": 4,
 "nbformat_minor": 5
}
