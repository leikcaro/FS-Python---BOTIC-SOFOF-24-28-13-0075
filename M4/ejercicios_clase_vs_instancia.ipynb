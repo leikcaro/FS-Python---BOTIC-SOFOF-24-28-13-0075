{
 "cells": [
  {
   "cell_type": "markdown",
   "id": "ab257276",
   "metadata": {},
   "source": [
    "### Ejercicio 1 –  Contador de Usuarios\n",
    "\n",
    "**Objetivo:** Practicar atributos de clase y el constructor `__init__`.\n",
    "\n",
    "**Enunciado:**\n",
    "\n",
    "Crea una clase llamada `Usuario`. Cada vez que se cree un nuevo usuario, debe incrementarse un contador de usuarios que se guarda como **atributo de clase**.\n",
    "\n",
    "Además, debe tener los atributos de instancia `nombre` y `correo`.\n",
    "\n",
    "1. Crea la clase `Usuario` con un atributo de clase llamado `total_usuarios` que comience en 0.\n",
    "2. Cada vez que se cree un usuario nuevo, debe aumentar en 1 el contador `total_usuarios`.\n",
    "3. Crea tres instancias de `Usuario` y luego imprime el total de usuarios registrados.\n"
   ]
  },
  {
   "cell_type": "code",
   "execution_count": null,
   "id": "0ad4e71b",
   "metadata": {},
   "outputs": [],
   "source": [
    "class Usuario:\n",
    "    total_usuarios = 0  # Atributo de clase\n",
    "\n",
    "    def __init__(self, nombre, correo):\n",
    "        self.nombre = nombre\n",
    "        self.correo = correo\n",
    "        Usuario.total_usuarios += 1  # Incrementa el contador cada vez que se crea un nuevo usuario\n",
    "\n",
    "# Crear instancias\n",
    "u1 = Usuario(\"Miyagi\", \"miyagi@email.com\")\n",
    "u2 = Usuario(\"Daniel\", \"daniel@email.com\")\n",
    "u3 = Usuario(\"Ali\", \"ali@email.com\")\n",
    "\n",
    "# Mostrar total\n",
    "print(\"Total de usuarios registrados:\", Usuario.total_usuarios)\n"
   ]
  },
  {
   "cell_type": "markdown",
   "id": "ae0be96f",
   "metadata": {},
   "source": [
    "### Ejercicio 2 – Nivel medio: Control de Tarjetas y cambio de banco\n",
    "\n",
    "**Objetivo:** Aplicar atributos de clase y métodos de clase para modificar propiedades globales de una clase.\n",
    "\n",
    "**Enunciado:**\n",
    "\n",
    "Crea una clase `TarjetaCredito` con los siguientes elementos:\n",
    "\n",
    "- Atributo de clase `banco`, con valor inicial `\"Banco Inicial\"`.\n",
    "- Atributo de clase `todas_las_tarjetas`, una lista vacía.\n",
    "- Método de clase `cambiar_banco(nuevo_nombre)` para cambiar el banco de todas las tarjetas.\n",
    "- El constructor debe recibir `usuario` y `limite`, y agregar la instancia a la lista `todas_las_tarjetas`.\n",
    "\n",
    "1. Crea dos tarjetas de crédito.\n",
    "2. Usa el método de clase para cambiar el banco a `\"Banco Pythonic\"`.\n",
    "3. Muestra que el cambio afectó a ambas tarjetas.\n"
   ]
  },
  {
   "cell_type": "code",
   "execution_count": null,
   "id": "b04b876c",
   "metadata": {},
   "outputs": [],
   "source": [
    "class TarjetaCredito:\n",
    "    banco = \"Banco Inicial\"\n",
    "    todas_las_tarjetas = []\n",
    "\n",
    "    def __init__(self, usuario, limite):\n",
    "        self.usuario = usuario\n",
    "        self.limite = limite\n",
    "        TarjetaCredito.todas_las_tarjetas.append(self)\n",
    "\n",
    "    @classmethod\n",
    "    def cambiar_banco(cls, nuevo_nombre):\n",
    "        cls.banco = nuevo_nombre\n",
    "\n",
    "# Crear tarjetas\n",
    "tarjeta1 = TarjetaCredito(\"Miyagi\", 1000)\n",
    "tarjeta2 = TarjetaCredito(\"Daniel\", 1500)\n",
    "\n",
    "# Cambiar el banco para todas\n",
    "TarjetaCredito.cambiar_banco(\"Banco Pythonic\")\n",
    "\n",
    "# Verificar\n",
    "print(\"Banco tarjeta1:\", tarjeta1.banco)\n",
    "print(\"Banco tarjeta2:\", tarjeta2.banco)\n"
   ]
  },
  {
   "cell_type": "markdown",
   "id": "327ab0b1",
   "metadata": {},
   "source": [
    "### Ejercicio 3 – Nivel medio: Compras con verificación de crédito\n",
    "\n",
    "**Objetivo:** Usar `@staticmethod` para validar condiciones antes de ejecutar una acción.\n",
    "\n",
    "**Enunciado:**\n",
    "\n",
    "Extiende la clase `TarjetaCredito` con un método `hacer_compra(monto)` que aumente el saldo si la compra es posible.\n",
    "\n",
    "Usa un método estático `puede_comprar(limite, saldo, monto)` que devuelva `True` o `False` dependiendo de si se puede realizar la compra.\n",
    "\n",
    "1. Si la compra es posible, el método `hacer_compra` debe aumentar el saldo y mostrar un mensaje de éxito.\n",
    "2. Si no es posible, debe imprimir “Tarjeta rechazada, límite excedido”.\n"
   ]
  },
  {
   "cell_type": "code",
   "execution_count": null,
   "id": "5095c1be",
   "metadata": {},
   "outputs": [],
   "source": [
    "class TarjetaCredito:\n",
    "    banco = \"Banco Inicial\"\n",
    "    todas_las_tarjetas = []\n",
    "\n",
    "    def __init__(self, usuario, limite):\n",
    "        self.usuario = usuario\n",
    "        self.limite = limite\n",
    "        self.saldo = 0\n",
    "        TarjetaCredito.todas_las_tarjetas.append(self)\n",
    "\n",
    "    def hacer_compra(self, monto):\n",
    "        if TarjetaCredito.puede_comprar(self.limite, self.saldo, monto):\n",
    "            self.saldo += monto\n",
    "            print(f\"Compra de ${monto} realizada con éxito.\")\n",
    "        else:\n",
    "            print(\"Tarjeta rechazada, límite excedido.\")\n",
    "        return self\n",
    "\n",
    "    @staticmethod\n",
    "    def puede_comprar(limite, saldo, monto):\n",
    "        return (saldo + monto) <= limite\n",
    "\n",
    "# Crear tarjeta\n",
    "tarjeta = TarjetaCredito(\"Daniel\", 500)\n",
    "\n",
    "# Intentar compras\n",
    "tarjeta.hacer_compra(200)\n",
    "tarjeta.hacer_compra(400)\n"
   ]
  }
 ],
 "metadata": {
  "language_info": {
   "name": "python"
  }
 },
 "nbformat": 4,
 "nbformat_minor": 5
}
