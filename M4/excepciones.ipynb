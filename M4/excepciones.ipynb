{
 "cells": [
  {
   "cell_type": "markdown",
   "metadata": {},
   "source": [
    "# Excepciones"
   ]
  },
  {
   "cell_type": "code",
   "execution_count": 1,
   "metadata": {},
   "outputs": [],
   "source": [
    "class MiClase:\n",
    "    def metodo(self):\n",
    "        try:\n",
    "            pass # Operaciones que pueden fallar\n",
    "        except Exception as e:\n",
    "            # Manejo de la excepción\n",
    "            print(f\"Ocurrió un error: {e}\")\n"
   ]
  },
  {
   "cell_type": "code",
   "execution_count": 2,
   "metadata": {},
   "outputs": [],
   "source": [
    "class LectorDeArchivos:\n",
    "    def leer_archivo(self, ruta):\n",
    "        try:\n",
    "            with open(ruta, 'r') as archivo:\n",
    "                contenido = archivo.read()\n",
    "                return contenido\n",
    "        except FileNotFoundError:\n",
    "            print(\"El archivo no fue encontrado.\")\n",
    "        except IOError:\n",
    "            print(\"Error al leer el archivo.\")\n"
   ]
  },
  {
   "cell_type": "code",
   "execution_count": 3,
   "metadata": {},
   "outputs": [],
   "source": [
    "class Usuario:\n",
    "    def __init__(self, edad):\n",
    "        if edad < 0:\n",
    "            raise ValueError(\"La edad no puede ser negativa.\")\n",
    "        self.edad = edad\n"
   ]
  },
  {
   "cell_type": "code",
   "execution_count": 4,
   "metadata": {},
   "outputs": [
    {
     "ename": "ValueError",
     "evalue": "La edad no puede ser negativa.",
     "output_type": "error",
     "traceback": [
      "\u001b[1;31m---------------------------------------------------------------------------\u001b[0m",
      "\u001b[1;31mValueError\u001b[0m                                Traceback (most recent call last)",
      "Cell \u001b[1;32mIn[4], line 1\u001b[0m\n\u001b[1;32m----> 1\u001b[0m pedrito\u001b[38;5;241m=\u001b[39mUsuario(\u001b[38;5;241m-\u001b[39m\u001b[38;5;241m1\u001b[39m)\n",
      "Cell \u001b[1;32mIn[3], line 4\u001b[0m, in \u001b[0;36mUsuario.__init__\u001b[1;34m(self, edad)\u001b[0m\n\u001b[0;32m      2\u001b[0m \u001b[38;5;28;01mdef\u001b[39;00m \u001b[38;5;21m__init__\u001b[39m(\u001b[38;5;28mself\u001b[39m, edad):\n\u001b[0;32m      3\u001b[0m     \u001b[38;5;28;01mif\u001b[39;00m edad \u001b[38;5;241m<\u001b[39m \u001b[38;5;241m0\u001b[39m:\n\u001b[1;32m----> 4\u001b[0m         \u001b[38;5;28;01mraise\u001b[39;00m \u001b[38;5;167;01mValueError\u001b[39;00m(\u001b[38;5;124m\"\u001b[39m\u001b[38;5;124mLa edad no puede ser negativa.\u001b[39m\u001b[38;5;124m\"\u001b[39m)\n\u001b[0;32m      5\u001b[0m     \u001b[38;5;28mself\u001b[39m\u001b[38;5;241m.\u001b[39medad \u001b[38;5;241m=\u001b[39m edad\n",
      "\u001b[1;31mValueError\u001b[0m: La edad no puede ser negativa."
     ]
    }
   ],
   "source": [
    "pedrito=Usuario(-1)"
   ]
  },
  {
   "cell_type": "code",
   "execution_count": 6,
   "metadata": {},
   "outputs": [
    {
     "data": {
      "text/plain": [
       "20"
      ]
     },
     "execution_count": 6,
     "metadata": {},
     "output_type": "execute_result"
    }
   ],
   "source": [
    "juanito = Usuario(20)\n",
    "juanito.edad"
   ]
  },
  {
   "cell_type": "markdown",
   "metadata": {},
   "source": [
    "En Python, el bloque try-except se utiliza para manejar errores o excepciones que puedan ocurrir durante la ejecución del código. Los errores más comunes que se pueden capturar con try-except incluyen: \n",
    "\n",
    "TypeError: Ocurre cuando se realiza una operación con un tipo de dato incorrecto, por ejemplo, intentar sumar un número a una cadena de texto. \n",
    "\n",
    "ZeroDivisionError: Se produce al intentar dividir un número por cero. \n",
    "\n",
    "ValueError: Se genera cuando una función recibe un argumento del tipo correcto pero con un valor inválido, como intentar convertir una cadena no numérica a un entero. \n",
    "\n",
    "IndexError: Ocurre al intentar acceder a un elemento de una secuencia (lista, tupla, etc.) utilizando un índice que está fuera de rango. \n",
    "\n",
    "KeyError: Se presenta al intentar acceder a un diccionario con una clave que no existe. \n",
    "\n",
    "FileNotFoundError: Se genera al intentar abrir un archivo que no existe en la ubicación especificada. \n",
    "\n",
    "ImportError: Ocurre cuando falla la importación de un módulo. \n",
    "\n",
    "AttributeError: Se produce al intentar acceder a un atributo que no existe en un objeto. \n",
    "\n",
    "NameError: Se genera al intentar utilizar una variable que no ha sido definida. \n",
    "\n",
    "IndentationError: Se produce al haber errores en la sangría del código, que es fundamental en Python. \n",
    "\n",
    "SyntaxError: Ocurre cuando hay errores de sintaxis en el código, como errores de escritura o estructura.\n",
    "\n",
    "Es importante notar que existen muchas más excepciones específicas que pueden ocurrir en diferentes situaciones. Python ofrece una amplia gama de excepciones predefinidas que se pueden utilizar para manejar errores comunes, y también permite crear excepciones personalizadas para casos más específicos. "
   ]
  },
  {
   "cell_type": "markdown",
   "metadata": {},
   "source": []
  }
 ],
 "metadata": {
  "kernelspec": {
   "display_name": "base",
   "language": "python",
   "name": "python3"
  },
  "language_info": {
   "codemirror_mode": {
    "name": "ipython",
    "version": 3
   },
   "file_extension": ".py",
   "mimetype": "text/x-python",
   "name": "python",
   "nbconvert_exporter": "python",
   "pygments_lexer": "ipython3",
   "version": "3.12.7"
  }
 },
 "nbformat": 4,
 "nbformat_minor": 2
}
