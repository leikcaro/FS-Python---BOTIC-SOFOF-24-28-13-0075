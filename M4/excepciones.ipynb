{
 "cells": [
  {
   "cell_type": "markdown",
   "metadata": {},
   "source": [
    "# Excepciones"
   ]
  },
  {
   "cell_type": "code",
   "execution_count": 6,
   "metadata": {},
   "outputs": [
    {
     "name": "stdout",
     "output_type": "stream",
     "text": [
      "No puedes dividir por cero\n"
     ]
    }
   ],
   "source": [
    "n=int(input(\"ingrese el numero: \"))\n",
    "try:\n",
    "    # Bloque de código que puede causar una excepción\n",
    "    x = 10 / n\n",
    "except ZeroDivisionError:\n",
    "    # Bloque de código que se ejecuta si ocurre la excepción\n",
    "    print(\"No puedes dividir por cero\")\n",
    "else:\n",
    "    # Bloque de código que se ejecuta si no ocurre ninguna excepción\n",
    "    print(\"La división fue exitosa, el resultado es:\", x)"
   ]
  },
  {
   "cell_type": "code",
   "execution_count": 10,
   "metadata": {},
   "outputs": [
    {
     "name": "stdout",
     "output_type": "stream",
     "text": [
      "Debes ingresar un número válido.\n"
     ]
    }
   ],
   "source": [
    "try:\n",
    "    x = int(input(\"Ingresa un número: \"))\n",
    "    y = 10 / x\n",
    "except ValueError:\n",
    "    print(\"Debes ingresar un número válido.\")\n",
    "except ZeroDivisionError:\n",
    "    print(\"No puedes dividir por cero.\")\n",
    "except Exception as e:\n",
    "    print(f\"Ha ocurrido un error inesperado: {e}\")"
   ]
  },
  {
   "cell_type": "markdown",
   "metadata": {},
   "source": [
    "## Usando Raise"
   ]
  },
  {
   "cell_type": "code",
   "execution_count": 12,
   "metadata": {},
   "outputs": [
    {
     "name": "stdout",
     "output_type": "stream",
     "text": [
      "No se puede dividir por cero\n"
     ]
    }
   ],
   "source": [
    "def dividir(a, b):\n",
    "    if b == 0:\n",
    "        raise ZeroDivisionError(\"No se puede dividir por cero\")\n",
    "    return a / b\n",
    "\n",
    "try:\n",
    "    resultado = dividir(10, 0)\n",
    "except ZeroDivisionError as e:\n",
    "    print(e)"
   ]
  },
  {
   "cell_type": "code",
   "execution_count": 13,
   "metadata": {},
   "outputs": [
    {
     "name": "stdout",
     "output_type": "stream",
     "text": [
      "Se ha capturado un error: Este es un error personalizado\n"
     ]
    }
   ],
   "source": [
    "class MiErrorPersonalizado(Exception):\n",
    "    def __init__(self, mensaje):\n",
    "        self.mensaje = mensaje\n",
    "        super().__init__(self.mensaje)\n",
    "\n",
    "try:\n",
    "    raise MiErrorPersonalizado(\"Este es un error personalizado\")\n",
    "except MiErrorPersonalizado as e:\n",
    "    print(f\"Se ha capturado un error: {e}\")"
   ]
  },
  {
   "cell_type": "code",
   "execution_count": 14,
   "metadata": {},
   "outputs": [
    {
     "name": "stdout",
     "output_type": "stream",
     "text": [
      "Valor inválido\n"
     ]
    }
   ],
   "source": [
    "try:\n",
    "    x = int(input(\"Ingresa un número: \"))\n",
    "except Exception as e:\n",
    "    if isinstance(e, ValueError):\n",
    "        print(\"Valor inválido\")\n",
    "    elif isinstance(e, ZeroDivisionError):\n",
    "        print(\"No se puede dividir entre cero\")\n",
    "    else:\n",
    "        print(f\"Error inesperado: {e}\")"
   ]
  },
  {
   "cell_type": "code",
   "execution_count": 1,
   "metadata": {},
   "outputs": [],
   "source": [
    "class MiClase:\n",
    "    def metodo(self):\n",
    "        try:\n",
    "            pass # Operaciones que pueden fallar\n",
    "        except Exception as e:\n",
    "            # Manejo de la excepción\n",
    "            print(f\"Ocurrió un error: {e}\")\n"
   ]
  },
  {
   "cell_type": "code",
   "execution_count": null,
   "metadata": {},
   "outputs": [],
   "source": [
    "class LectorDeArchivos:\n",
    "    def leer_archivo(self, ruta):\n",
    "        try:\n",
    "            with open(ruta, 'r') as archivo:\n",
    "                contenido = archivo.read()\n",
    "                return contenido\n",
    "        except FileNotFoundError:\n",
    "            print(\"El archivo no fue encontrado.\")\n",
    "        except IOError:\n",
    "            print(\"Error al leer el archivo.\")\n",
    "        else:\n",
    "            print(\"Archivo leído correctamente.\")\n",
    "        finally:\n",
    "            print(\"Operación de lectura finalizada.\")"
   ]
  },
  {
   "cell_type": "code",
   "execution_count": 15,
   "metadata": {},
   "outputs": [],
   "source": [
    "class Usuario:\n",
    "    def __init__(self, edad):\n",
    "        if edad < 0:\n",
    "            raise ValueError(\"La edad no puede ser negativa.\")\n",
    "        self.edad = edad\n"
   ]
  },
  {
   "cell_type": "code",
   "execution_count": 16,
   "metadata": {},
   "outputs": [
    {
     "ename": "ValueError",
     "evalue": "La edad no puede ser negativa.",
     "output_type": "error",
     "traceback": [
      "\u001b[1;31m---------------------------------------------------------------------------\u001b[0m",
      "\u001b[1;31mValueError\u001b[0m                                Traceback (most recent call last)",
      "Cell \u001b[1;32mIn[16], line 1\u001b[0m\n\u001b[1;32m----> 1\u001b[0m pedrito\u001b[38;5;241m=\u001b[39mUsuario(\u001b[38;5;241m-\u001b[39m\u001b[38;5;241m1\u001b[39m)\n",
      "Cell \u001b[1;32mIn[15], line 4\u001b[0m, in \u001b[0;36mUsuario.__init__\u001b[1;34m(self, edad)\u001b[0m\n\u001b[0;32m      2\u001b[0m \u001b[38;5;28;01mdef\u001b[39;00m \u001b[38;5;21m__init__\u001b[39m(\u001b[38;5;28mself\u001b[39m, edad):\n\u001b[0;32m      3\u001b[0m     \u001b[38;5;28;01mif\u001b[39;00m edad \u001b[38;5;241m<\u001b[39m \u001b[38;5;241m0\u001b[39m:\n\u001b[1;32m----> 4\u001b[0m         \u001b[38;5;28;01mraise\u001b[39;00m \u001b[38;5;167;01mValueError\u001b[39;00m(\u001b[38;5;124m\"\u001b[39m\u001b[38;5;124mLa edad no puede ser negativa.\u001b[39m\u001b[38;5;124m\"\u001b[39m)\n\u001b[0;32m      5\u001b[0m     \u001b[38;5;28mself\u001b[39m\u001b[38;5;241m.\u001b[39medad \u001b[38;5;241m=\u001b[39m edad\n",
      "\u001b[1;31mValueError\u001b[0m: La edad no puede ser negativa."
     ]
    }
   ],
   "source": [
    "pedrito=Usuario(-1)"
   ]
  },
  {
   "cell_type": "code",
   "execution_count": 6,
   "metadata": {},
   "outputs": [
    {
     "data": {
      "text/plain": [
       "20"
      ]
     },
     "execution_count": 6,
     "metadata": {},
     "output_type": "execute_result"
    }
   ],
   "source": [
    "juanito = Usuario(20)\n",
    "juanito.edad"
   ]
  },
  {
   "cell_type": "markdown",
   "metadata": {},
   "source": [
    "En Python, el bloque try-except se utiliza para manejar errores o excepciones que puedan ocurrir durante la ejecución del código. Los errores más comunes que se pueden capturar con try-except incluyen: \n",
    "\n",
    "TypeError: Ocurre cuando se realiza una operación con un tipo de dato incorrecto, por ejemplo, intentar sumar un número a una cadena de texto. \n",
    "\n",
    "ZeroDivisionError: Se produce al intentar dividir un número por cero. \n",
    "\n",
    "ValueError: Se genera cuando una función recibe un argumento del tipo correcto pero con un valor inválido, como intentar convertir una cadena no numérica a un entero. \n",
    "\n",
    "IndexError: Ocurre al intentar acceder a un elemento de una secuencia (lista, tupla, etc.) utilizando un índice que está fuera de rango. \n",
    "\n",
    "KeyError: Se presenta al intentar acceder a un diccionario con una clave que no existe. \n",
    "\n",
    "FileNotFoundError: Se genera al intentar abrir un archivo que no existe en la ubicación especificada. \n",
    "\n",
    "ImportError: Ocurre cuando falla la importación de un módulo. \n",
    "\n",
    "AttributeError: Se produce al intentar acceder a un atributo que no existe en un objeto. \n",
    "\n",
    "NameError: Se genera al intentar utilizar una variable que no ha sido definida. \n",
    "\n",
    "IndentationError: Se produce al haber errores en la sangría del código, que es fundamental en Python. \n",
    "\n",
    "SyntaxError: Ocurre cuando hay errores de sintaxis en el código, como errores de escritura o estructura.\n",
    "\n",
    "Es importante notar que existen muchas más excepciones específicas que pueden ocurrir en diferentes situaciones. Python ofrece una amplia gama de excepciones predefinidas que se pueden utilizar para manejar errores comunes, y también permite crear excepciones personalizadas para casos más específicos. "
   ]
  },
  {
   "cell_type": "markdown",
   "metadata": {},
   "source": []
  }
 ],
 "metadata": {
  "kernelspec": {
   "display_name": "base",
   "language": "python",
   "name": "python3"
  },
  "language_info": {
   "codemirror_mode": {
    "name": "ipython",
    "version": 3
   },
   "file_extension": ".py",
   "mimetype": "text/x-python",
   "name": "python",
   "nbconvert_exporter": "python",
   "pygments_lexer": "ipython3",
   "version": "3.12.7"
  }
 },
 "nbformat": 4,
 "nbformat_minor": 2
}
